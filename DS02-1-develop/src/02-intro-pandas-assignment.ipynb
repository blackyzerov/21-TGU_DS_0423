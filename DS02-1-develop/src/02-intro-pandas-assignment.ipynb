{
 "cells": [
  {
   "cell_type": "markdown",
   "metadata": {},
   "source": [
    "# Задание"
   ]
  },
  {
   "cell_type": "code",
   "execution_count": null,
   "metadata": {},
   "outputs": [],
   "source": [
    "import pandas as pd"
   ]
  },
  {
   "cell_type": "markdown",
   "metadata": {},
   "source": [
    "## Task 1"
   ]
  },
  {
   "cell_type": "markdown",
   "metadata": {},
   "source": [
    "Узнай самый часто встречаемый возраст респондентов"
   ]
  },
  {
   "cell_type": "code",
   "execution_count": 1,
   "metadata": {
    "tags": []
   },
   "outputs": [
    {
     "name": "stdout",
     "output_type": "stream",
     "text": [
      "Q2\n",
      "18-21    4559\n",
      "25-29    4472\n",
      "22-24    4283\n",
      "Name: count, dtype: int64\n"
     ]
    }
   ],
   "source": [
    "import pandas as pd                                                                   # Импортируем библиотеку Pandas и чтобы к ней обращаться сокращаем ее название до pd\n",
    "data = pd.read_csv('../datasets/kaggle_survey_2022_responses.csv', low_memory=False)  # Указываем путь к файлу\n",
    "print(data['Q2'].value_counts().iloc[:3])                                             # Подсчитывает частоту уникальных значений в колонке"
   ]
  },
  {
   "cell_type": "markdown",
   "metadata": {},
   "source": [
    "## Task 2"
   ]
  },
  {
   "cell_type": "markdown",
   "metadata": {},
   "source": [
    "Посчитай долю женщин среди русских участников опроса, которые уже не студенты. Результат округли до двух цифр после запятой"
   ]
  },
  {
   "cell_type": "code",
   "execution_count": 2,
   "metadata": {
    "tags": []
   },
   "outputs": [
    {
     "name": "stdout",
     "output_type": "stream",
     "text": [
      "23.78 %  доля в процентах женщин среди русских участников опроса\n",
      "0.24 доля женщин среди русских участников опроса\n"
     ]
    }
   ],
   "source": [
    "import pandas as pd                                                                                                           # Импортируем библиотеку Pandas и чтобы к ней обращаться сокращаем ее название до pd\n",
    "data = pd.read_csv('../datasets/kaggle_survey_2022_responses.csv', low_memory=False)                                          # Указываем путь к файлу\n",
    "                                                                                                                              # Выведем необходимые строки и ссумируем их\n",
    "rus=((data['Q4'].str.contains('Russia')) & (data['Q5'].str.contains('No'))).sum()                                             # фильтр сумма русские не студенты\n",
    "Woman_rus=((data['Q4'].str.contains('Russia')) & (data['Q3'].str.contains('Woman')) & (data['Q5'].str.contains('No'))).sum()  # фильтр сумма русcкие женьщины не студенты\n",
    "\n",
    "dolya=(Woman_rus / rus)                                                                                                       # формула расчета доли в процентах от  общего количества русских не студентов\n",
    "\n",
    "print(round(dolya * 100, 2), '%  доля в процентах женщин среди русских участников опроса' )                                   # вывод доли в процентах \n",
    "print(round(dolya , 2), 'доля женщин среди русских участников опроса')                                                        # вывод доли "
   ]
  },
  {
   "cell_type": "markdown",
   "metadata": {},
   "source": [
    "## Task 3"
   ]
  },
  {
   "cell_type": "markdown",
   "metadata": {},
   "source": [
    "Найди среднее время заполнения опроса в **минутах**. Результат округли до двух знаков после запятой"
   ]
  },
  {
   "cell_type": "code",
   "execution_count": 3,
   "metadata": {
    "tags": []
   },
   "outputs": [
    {
     "name": "stdout",
     "output_type": "stream",
     "text": [
      "среднее время заполнения опроса 168.17 min\n"
     ]
    }
   ],
   "source": [
    "import pandas as pd                                                                          # Импортируем библиотеку Pandas и чтобы к ней обращаться сокращаем ее название до pd\n",
    "data = pd.read_csv('../datasets/kaggle_survey_2022_responses.csv', low_memory=False)         # Указываем путь к файлу\n",
    "data.drop(0, inplace=True)                                                                   # удаление нулевой строки с тестом\n",
    "    \n",
    "data['Duration (in seconds)'] = data['Duration (in seconds)'].astype(int)                    # Приведем колонку к типу int\n",
    "Sum_x = data['Duration (in seconds)'].sum()                                                  # Сумма всех значений времени заполнения опроса\n",
    "Sum_x = Sum_x.astype(int)                                                                    # Теперь cумма типа int\n",
    "Kol_y = len(data)                                                                            # Получаем колличество строк\n",
    "Sredn_z = (Sum_x / Kol_y) / 60                                                               # Формула среднего времени заполнения опроса в минутах\n",
    "\n",
    "print('среднее время заполнения опроса',(round(Sredn_z , 2)) , 'min')                        # вывод среднее время заполнения опроса в минутах"
   ]
  },
  {
   "cell_type": "markdown",
   "metadata": {},
   "source": [
    "## Task 4"
   ]
  },
  {
   "cell_type": "markdown",
   "metadata": {},
   "source": [
    "Выведи топ-3 образовательных курса, которые указали респонденты. P.S Это вопрос Q6"
   ]
  },
  {
   "cell_type": "code",
   "execution_count": 4,
   "metadata": {},
   "outputs": [
    {
     "name": "stdout",
     "output_type": "stream",
     "text": [
      "топ-3 образовательных курса\n",
      "value\n",
      "Coursera                                                 9699\n",
      "University Courses (resulting in a university degree)    6780\n",
      "Kaggle Learn Courses                                     6628\n",
      "Name: count, dtype: int64\n"
     ]
    }
   ],
   "source": [
    "import pandas as pd                                                                   # Импортируем библиотеку Pandas и чтобы к ней обращаться сокращаем ее название до pd\n",
    "data = pd.read_csv('../datasets/kaggle_survey_2022_responses.csv', low_memory=False)  # Указываем путь к файлу\n",
    "\n",
    "q6_columns = [col for col in data.columns if col.startswith('Q6')]                    #  [действие for переменная in контейнер if условие == True]\n",
    "kurs = data[q6_columns].melt()                                                        # объединить все колонки в одну \n",
    "print('топ-3 образовательных курса')                                                   \n",
    "print(kurs['value'].value_counts().iloc[:3])                                          # топ-3 образовательных курса, которые указали респонденты"
   ]
  },
  {
   "cell_type": "markdown",
   "metadata": {},
   "source": [
    "## Task 5"
   ]
  },
  {
   "cell_type": "markdown",
   "metadata": {},
   "source": [
    "Узнай топ-5 языков программирования, которые регулярно используют Data Scientists в своей работе"
   ]
  },
  {
   "cell_type": "code",
   "execution_count": 5,
   "metadata": {},
   "outputs": [
    {
     "name": "stdout",
     "output_type": "stream",
     "text": [
      "топ-5 языков программирования, которые регулярно используют Data Scientists\n",
      "value\n",
      "Python    18653\n",
      "SQL        9620\n",
      "R          4571\n",
      "C++        4549\n",
      "Java       3862\n",
      "Name: count, dtype: int64\n"
     ]
    }
   ],
   "source": [
    "import pandas as pd                                                                   # Импортируем библиотеку Pandas и чтобы к ней обращаться сокращаем ее название до pd\n",
    "data = pd.read_csv('../datasets/kaggle_survey_2022_responses.csv', low_memory=False)  # Указываем путь к файлу\n",
    "                                                                                     \n",
    "q12_columns = [col for col in data.columns if col.startswith('Q12')]                 #  [действие for переменная in контейнер if условие == True]\n",
    "language = data[q12_columns].melt()                                                  # объединить все колонки в одну \n",
    "print('топ-5 языков программирования, которые регулярно используют Data Scientists')\n",
    "print(language['value'].value_counts().iloc[:5])                                     # Top 3 Полезных платформ для обучения анализу данных"
   ]
  },
  {
   "cell_type": "markdown",
   "metadata": {},
   "source": [
    "## Task 6"
   ]
  },
  {
   "cell_type": "markdown",
   "metadata": {},
   "source": [
    "Узнай средний доход среди 'Data Scientist' специалистов и средний доход среди 'Machine Learning/ MLops Engineer' \\\n",
    "Т.к. в колонке Q29 указан промежуток, то возьми среднее значение из промежутка. \n",
    "\n",
    "Например: \n",
    "- '15,000-19,999' - 17500, \n",
    "- '125,000-149,999' - 137500. \n",
    "- \\> $1,000,000 - оставляем 1000000\n",
    "\n",
    "Средние доход **округли до целого.**"
   ]
  },
  {
   "cell_type": "code",
   "execution_count": 6,
   "metadata": {},
   "outputs": [
    {
     "name": "stdout",
     "output_type": "stream",
     "text": [
      "Средний доход средний специалистов:\n",
      "                                                     Q29-NEW\n",
      "Q23                                                         \n",
      "Manager (Program, Project, Operations, Executiv...  100944.0\n",
      "Data Architect                                       92659.0\n",
      "Research Scientist                                   71432.0\n",
      "Developer Advocate                                   71032.0\n",
      "Data Scientist                                       70337.0\n",
      "Machine Learning/ MLops Engineer                     67438.0\n",
      "Software Engineer                                    51028.0\n",
      "Other                                                49662.0\n",
      "Data Engineer                                        48551.0\n",
      "Statistician                                         34706.0\n",
      "Data Analyst (Business, Marketing, Financial, Q...   33407.0\n",
      "Engineer (non-software)                              33358.0\n",
      "Teacher / professor                                  33284.0\n",
      "Data Administrator                                   23560.0\n"
     ]
    }
   ],
   "source": [
    "import pandas as pd                                                                   # Импортируем библиотеку Pandas и чтобы к ней обращаться сокращаем ее название до pd\n",
    "data = pd.read_csv('../datasets/kaggle_survey_2022_responses.csv', low_memory=False)  # Указываем путь к файлу\n",
    "data.drop(0, inplace=True)                                                            # удаление нулевой строки с тестом\n",
    "\n",
    "employees_mapping = {'$0-999': 500, '10,000-14,999': 12500, '30,000-39,999': 35000, '1,000-1,999': 1500, '40,000-49,999': 45000,\n",
    "                     '100,000-124,999': 112500, '5,000-7,499': 6250, '50,000-59,999': 55000, '7,500-9,999': 8750, '150,000-199,999': 175000,\n",
    "                     '20,000-24,999': 22500, '60,000-69,999': 65000,'15,000-19,999': 17500,'70,000-79,999': 75000,'25,000-29,999': 27500,'2,000-2,999': 2500,\n",
    "                     '125,000-149,999': 137500,'3,000-3,999': 3500,'4,000-4,999': 4500,'80,000-89,999': 85000, '90,000-99,999': 95000, '200,000-249,999': 225000,\n",
    "                     '250,000-299,999': 275000, '300,000-499,999': 400000, '$500,000-999,999': 750000, '>$1,000,000': 1000000,}\n",
    "\n",
    "data['Q29-NEW'] = data['Q29'].map(employees_mapping)\n",
    "employees = data[['Q23', 'Q29-NEW']].dropna()\n",
    "print('Средний доход средний специалистов:')\n",
    "print(employees.groupby(['Q23']).mean().sort_values('Q29-NEW', ascending=False).round(0))"
   ]
  },
  {
   "cell_type": "markdown",
   "metadata": {},
   "source": [
    "## Дополнительно"
   ]
  },
  {
   "cell_type": "markdown",
   "metadata": {},
   "source": [
    "Найди какой-нибудь интересный инсайт из этих данных. Пиши свои интересные инсайты в чат проекта с хэштегом.\n",
    "#инсайт\n",
    "\n",
    "Автор самого интересного инсайта получит p2p баллы. Поверь, они тебе понадобятся"
   ]
  },
  {
   "cell_type": "code",
   "execution_count": 7,
   "metadata": {},
   "outputs": [
    {
     "name": "stdout",
     "output_type": "stream",
     "text": [
      "Какое чаще всего специализированное оборудование при обучении моделей машинного обучения изпользуется специалистами:\n",
      "value\n",
      " GPUs                 2682\n",
      " TPUs                  653\n",
      "Other                   70\n",
      " IPUs                   67\n",
      " RDUs                   58\n",
      " Inferentia Chips       58\n",
      " Trainium Chips         39\n",
      " WSEs                   26\n",
      "Name: count, dtype: int64\n"
     ]
    }
   ],
   "source": [
    "import pandas as pd                                                                   # Импортируем библиотеку Pandas и чтобы к ней обращаться сокращаем ее название до pd\n",
    "data = pd.read_csv('../datasets/kaggle_survey_2022_responses.csv', low_memory=False)  # Указываем путь к файлу\n",
    "\n",
    "data.drop(0, inplace=True)                                                           # удаление 0 строки\n",
    "\n",
    "q42_columns = [col for col in data.columns if col.startswith('Q42')]                 #  [действие for переменная in контейнер if условие == True]\n",
    "Q42_NEW = data[q42_columns].melt()                                                   #  объединить все колонки в одну \n",
    "print('Какое чаще всего специализированное оборудование при обучении моделей машинного обучения изпользуется специалистами:')\n",
    "print(Q42_NEW['value'].value_counts().iloc[:10])"
   ]
  }
 ],
 "metadata": {
  "kernelspec": {
   "display_name": "Python 3 (ipykernel)",
   "language": "python",
   "name": "python3"
  },
  "language_info": {
   "codemirror_mode": {
    "name": "ipython",
    "version": 3
   },
   "file_extension": ".py",
   "mimetype": "text/x-python",
   "name": "python",
   "nbconvert_exporter": "python",
   "pygments_lexer": "ipython3",
   "version": "3.11.3"
  }
 },
 "nbformat": 4,
 "nbformat_minor": 4
}
