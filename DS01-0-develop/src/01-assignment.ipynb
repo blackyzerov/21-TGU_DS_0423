{
 "cells": [
  {
   "cell_type": "markdown",
   "id": "fffcbb2c-4423-4f1c-bc90-e1ac7fbaa456",
   "metadata": {},
   "source": [
    "# Задания "
   ]
  },
  {
   "cell_type": "markdown",
   "id": "c2d747fe-7b74-43e0-95b3-16525e9846ac",
   "metadata": {},
   "source": [
    "## Task 1"
   ]
  },
  {
   "cell_type": "markdown",
   "id": "2e2f1076-fd27-4222-95e9-d3b7ff8ff36a",
   "metadata": {},
   "source": [
    "Напиши код, который будет решать квадратное уравнение вида\n",
    "$ ax^2 + bx + c = 0, a\\neq0$. \\\n",
    "Для этого понадобится найти дискриминант. Его формула $ D = b^2 − 4ac $"
   ]
  },
  {
   "cell_type": "markdown",
   "id": "20bf557b-21f9-46fa-b8db-76b7a96526f4",
   "metadata": {},
   "source": [
    "Для начала напиши формулу нахождения корней квадратного уравнения на языке LaTeX\n",
    "\n",
    "$ x=\\frac{-b\\pm \\sqrt{D}}{2a} $"
   ]
  },
  {
   "cell_type": "markdown",
   "id": "c78b058d-777d-4369-b86d-0c0fc013eba9",
   "metadata": {},
   "source": [
    "Теперь, когда ты вспомнил как находить корни, приступай к написанию функции:\n",
    "- Функция принимает на вход коэффициент a, b, c.\n",
    "- Функция должна возвращать кортеж корней уравнения. \n",
    "- Если корней у уравнения нет, то функция должна вернуть None"
   ]
  },
  {
   "cell_type": "code",
   "execution_count": 60,
   "id": "03b8b371-870b-42cc-8f53-1e8596406894",
   "metadata": {},
   "outputs": [
    {
     "name": "stdout",
     "output_type": "stream",
     "text": [
      "[0.5, 0.5]\n",
      "[-1.0]\n",
      "None\n",
      "[0.0]\n"
     ]
    },
    {
     "name": "stdin",
     "output_type": "stream",
     "text": [
      "a =  2\n",
      "b =  3\n",
      "c =  -2\n"
     ]
    },
    {
     "name": "stdout",
     "output_type": "stream",
     "text": [
      "[0.5, 0.5]\n"
     ]
    }
   ],
   "source": [
    "def quadratic_equation(a, b, c):\n",
    "    \n",
    "    discr = b**2 - 4*a*c       \n",
    "    if discr == 0:            \n",
    "        return [-b / (2 * a)]           \n",
    "    elif discr > 0:      \n",
    "        return [(-b + discr ** 0.5) / (2 * a), (-b + discr ** 0.5) / (2 * a)]\n",
    "\n",
    "print(quadratic_equation(2, 3, -2))\n",
    "print(quadratic_equation(2, 4, 2)) \n",
    "print(quadratic_equation(2, 4, 3)) \n",
    "print(quadratic_equation(1, 0, 0))\n",
    "a = float(input(\"a = \"))    # ввод значения а и перевод в значение с плавающей запятой\n",
    "b = float(input(\"b = \"))    # ввод значения b и перевод в значение с плавающей запятой\n",
    "c = float(input(\"c = \"))    # ввод значения c и перевод в значение с плавающей запятой\n",
    "print(quadratic_equation(a,b,c))"
   ]
  },
  {
   "cell_type": "markdown",
   "id": "fa19e6d7-88a4-4711-8108-f9d2be6bc667",
   "metadata": {},
   "source": [
    "## Task 2"
   ]
  },
  {
   "cell_type": "markdown",
   "id": "816c48be-0963-4bd6-bd86-c8172eb8968e",
   "metadata": {},
   "source": [
    "Функция, которая на вход принимает cписок случайных чисел, а возвращает уже отсортированный методом Пузырька по возрастанию."
   ]
  },
  {
   "cell_type": "code",
   "execution_count": 61,
   "id": "3fbaf6b3-876f-4ecf-9be6-d26181ee3a48",
   "metadata": {},
   "outputs": [
    {
     "name": "stdout",
     "output_type": "stream",
     "text": [
      "Несортированный список:  [42, 14, 89, 41, 57, 52, 29, 11, 48, 98]\n",
      "Отсортированный список:  [11, 14, 29, 41, 42, 48, 52, 57, 89, 98]\n"
     ]
    }
   ],
   "source": [
    "import random\n",
    "\n",
    "lst = random.sample(range(0, 100), 10) # Случайно выбираем 10 чисел из последовательности от 0 до 99 включительно\n",
    "\n",
    "def bubble_sort(lst):\n",
    "    for i in range(0,len(lst)-1): \n",
    "        for j in range(len(lst)-1): \n",
    "            if(lst[j]>lst[j+1]): \n",
    "                temp = lst[j] \n",
    "                lst[j] = lst[j+1] \n",
    "                lst[j+1] = temp \n",
    "    return lst \n",
    "\n",
    "print(\"Несортированный список: \", lst) \n",
    "print(\"Отсортированный список: \", bubble_sort(lst)) "
   ]
  },
  {
   "cell_type": "markdown",
   "id": "0026496c-03a8-4fcc-907b-dfb8f3fc0efb",
   "metadata": {},
   "source": [
    "## Task 3"
   ]
  },
  {
   "cell_type": "markdown",
   "id": "688251be-39a3-49ed-9993-a5f9b39f430d",
   "metadata": {},
   "source": [
    "Самое часто встречающееся слово в романе \"Война и Мир\" без учета:\n",
    "   * Пунктуации\n",
    "   * Слов **короче четырех** символов \n",
    "   * 'Стоп-слов', которые приведены в файле в stop_words_russian.txt\n",
    "   \n",
    ">Для решения задачи достаточно использовать стандартные библиотеки Python. \\\n",
    "\n",
    ">Обязательно поделись с пирами в rocket-chat сколько раз у тебя встретилось это слово. Результаты, в зависимости от предобработки, могут чуть отличаться."
   ]
  },
  {
   "cell_type": "code",
   "execution_count": 62,
   "id": "94501d71-ee88-4f78-808d-20e79a5f3707",
   "metadata": {},
   "outputs": [
    {
     "name": "stdout",
     "output_type": "stream",
     "text": [
      "Самое часто встречающееся слово:  пьер\n",
      "Встречается:  1401\n"
     ]
    }
   ],
   "source": [
    "import string\n",
    "\n",
    "with open('../datasets/war_and_peace.txt', 'r', encoding = 'utf-8') as f:\n",
    "    text = f.read().lower()\n",
    "    \n",
    "with open('../datasets/stop_words_russian.txt', 'r', encoding = 'utf-8') as f:\n",
    "    stop_words = f.read().split()\n",
    "    \n",
    "for p in string.punctuation:\n",
    "    text = text.replace(p, '')\n",
    "    words = text.split()\n",
    "    words = [word for word in words if len(word) >= 4 and word not in stop_words]\n",
    "    word_count = {}\n",
    "    \n",
    "for word in words:\n",
    "    if word in word_count:\n",
    "        word_count[word] += 1\n",
    "    else:\n",
    "        word_count[word] = 1\n",
    "\n",
    "most_common_word = max(word_count, key = word_count.get)\n",
    "\n",
    "print('Самое часто встречающееся слово: ', most_common_word)\n",
    "print('Встречается: ', word_count[most_common_word])"
   ]
  },
  {
   "cell_type": "markdown",
   "id": "d4b6f922-7a22-4b38-8529-c92994edd38c",
   "metadata": {},
   "source": [
    "## Task 4"
   ]
  },
  {
   "cell_type": "markdown",
   "id": "c2cef602-ab87-47f8-ab2c-e323442b62f7",
   "metadata": {},
   "source": [
    "Функция для расчета числа Фибоначчи с использованием рекурсивной функции."
   ]
  },
  {
   "cell_type": "code",
   "execution_count": 15,
   "id": "ec1c1860-774d-4583-a44b-bdc30492eead",
   "metadata": {},
   "outputs": [
    {
     "name": "stdin",
     "output_type": "stream",
     "text": [
      "Введите число членов последовательности: 40\n"
     ]
    },
    {
     "name": "stdout",
     "output_type": "stream",
     "text": [
      "0 1 1 2 3 5 8 13 21 34 55 89 144 233 377 610 987 1597 2584 4181 6765 10946 17711 28657 46368 75025 121393 196418 317811 514229 832040 1346269 2178309 3524578 5702887 9227465 14930352 24157817 39088169 63245986 "
     ]
    }
   ],
   "source": [
    "def fib(n):\n",
    "    if (n <= 1):\n",
    "        return n\n",
    "    else:\n",
    "        return (fib(n-1) + fib(n-2))\n",
    "    \n",
    "n = int(input(\"Введите число членов последовательности:\"))\n",
    "\n",
    "for i in range(n):\n",
    "    print(fib(i), end=' ')"
   ]
  },
  {
   "cell_type": "markdown",
   "id": "1acc3069-4b1a-4a5c-98e4-055731203d2d",
   "metadata": {},
   "source": [
    "## Task 5"
   ]
  },
  {
   "cell_type": "markdown",
   "id": "944e804e-fb40-4ea2-b931-38b595d3c262",
   "metadata": {},
   "source": [
    "Функция перевода валюты в рубли."
   ]
  },
  {
   "cell_type": "code",
   "execution_count": 43,
   "id": "570cfb71-5cf0-41fc-aae7-cf2b2812eaca",
   "metadata": {},
   "outputs": [
    {
     "name": "stdin",
     "output_type": "stream",
     "text": [
      "USD =  100\n"
     ]
    },
    {
     "name": "stdout",
     "output_type": "stream",
     "text": [
      "8050.929999999999\n"
     ]
    },
    {
     "name": "stdin",
     "output_type": "stream",
     "text": [
      "EUR =  20\n"
     ]
    },
    {
     "name": "stdout",
     "output_type": "stream",
     "text": [
      "1767.424\n"
     ]
    },
    {
     "name": "stdin",
     "output_type": "stream",
     "text": [
      "GBP =  20\n"
     ]
    },
    {
     "name": "stdout",
     "output_type": "stream",
     "text": [
      "2011.766\n"
     ]
    }
   ],
   "source": [
    "import requests\n",
    "def convert2RU(currency, value):\n",
    "    req = requests.get('https://www.cbr-xml-daily.ru/daily_json.js'). json()\n",
    "    if currency in req['Valute']:\n",
    "        return req['Valute'][currency]['Value']*value\n",
    "    \n",
    "a = float(input(\"USD = \"))    # ввод значения а и перевод в значение с плавающей запятой\n",
    "print(convert2RU('USD', a))\n",
    "b = float(input(\"EUR = \"))    # ввод значения b и перевод в значение с плавающей запятой\n",
    "print(convert2RU('EUR', b))\n",
    "c = float(input(\"GBP = \"))    # ввод значения c и перевод в значение с плавающей запятой\n",
    "print(convert2RU('GBP', c))    \n"
   ]
  },
  {
   "cell_type": "markdown",
   "id": "fe1396fa-7109-48ad-a255-4d4f622c18a4",
   "metadata": {},
   "source": [
    "## *Task 6. Дополнительное задание"
   ]
  },
  {
   "cell_type": "markdown",
   "id": "71315701-39bd-4759-afd9-7bf20486b4f7",
   "metadata": {},
   "source": [
    "Написание проверки на пaлиндром."
   ]
  },
  {
   "cell_type": "markdown",
   "id": "715fd45b-eb76-4eb5-bbd8-a257035fe892",
   "metadata": {},
   "source": [
    "1. На вход функции _isPalindrome_ подается **число** (int). \\\n",
    "Функция возвращает **True**, если число является палиндромом и **False** в противном случае. "
   ]
  },
  {
   "cell_type": "code",
   "execution_count": 35,
   "id": "9f48d9c7-c413-47fb-b692-ce5ad8ed9ec1",
   "metadata": {},
   "outputs": [
    {
     "name": "stdout",
     "output_type": "stream",
     "text": [
      "True\n",
      "False\n"
     ]
    }
   ],
   "source": [
    "def isPalindrome(y: int) -> bool:\n",
    "    a = str(y)\n",
    "    return a == a[::-1]\n",
    "    \n",
    "print(isPalindrome(123321))\n",
    "print(isPalindrome(-123123))"
   ]
  },
  {
   "cell_type": "markdown",
   "id": "e86f6f7c-c3b0-4b92-bb3d-651dcc7d4706",
   "metadata": {},
   "source": [
    "2. Реализация функции без использования перевода числа в строку."
   ]
  },
  {
   "cell_type": "code",
   "execution_count": 30,
   "id": "35cf92fa-04c6-489b-9523-99d78dce4ba1",
   "metadata": {},
   "outputs": [
    {
     "name": "stdout",
     "output_type": "stream",
     "text": [
      "True\n",
      "False\n"
     ]
    }
   ],
   "source": [
    "import math\n",
    "def isPalindrome_v2(y: int) -> bool:\n",
    "    if y < 0:\n",
    "        return False\n",
    "    x2, temp, i, length = 0, y, 0, int(math.log10(y))\n",
    "    while temp > 0:\n",
    "        x2 += temp % 10 * 10 ** (length - i)\n",
    "        temp = temp // 10\n",
    "        i += 1\n",
    "    return y == x2\n",
    "\n",
    "print(isPalindrome_v2(123321))\n",
    "print(isPalindrome_v2(-123123))"
   ]
  },
  {
   "cell_type": "code",
   "execution_count": null,
   "id": "793bf6ec-2643-4de6-8d6e-f93b557dc4f1",
   "metadata": {},
   "outputs": [],
   "source": []
  }
 ],
 "metadata": {
  "kernelspec": {
   "display_name": "Python 3 (ipykernel)",
   "language": "python",
   "name": "python3"
  },
  "language_info": {
   "codemirror_mode": {
    "name": "ipython",
    "version": 3
   },
   "file_extension": ".py",
   "mimetype": "text/x-python",
   "name": "python",
   "nbconvert_exporter": "python",
   "pygments_lexer": "ipython3",
   "version": "3.11.3"
  }
 },
 "nbformat": 4,
 "nbformat_minor": 5
}
