{
 "cells": [
  {
   "cell_type": "markdown",
   "id": "b1fdbf7e-ce9f-4491-bd8e-e967f5456d24",
   "metadata": {},
   "source": [
    "## Task 1\n",
    "Давай начнем с самого простого. В этом упражнении тебе необходимо получить отфильтрованные данные из таблицы \n",
    "в базе данных. Почему важно фильтровать данные именно в запросе, а не после этого в библиотеке Pandas?\n",
    "Потому что таблицы могут иметь огромный размер. Если ты попыташься получить всю таблицу, то не сможешь ее \"переварить\" \n",
    "– у тебя может не хватить оперативной памяти. Всегда помни об этом.\n",
    "\n",
    "Первый способ фильтрации — выбрать только те столбцы, которые тебе действительно нужны. \n",
    "Второй способ — выбрать только те строки, которые тебе действительно нужны.\n",
    "\n",
    "Подробное описание задания:\n",
    "\n",
    "1. Помести базу данных в подкаталог data в корневом каталоге, используемом в рамках этого проекта."
   ]
  },
  {
   "cell_type": "markdown",
   "id": "48017135-8f70-4555-a8ee-aa6f7026613a",
   "metadata": {},
   "source": [
    "## 2. Создай соединение с базой данных с помощью библиотеки `sqlite3`."
   ]
  },
  {
   "cell_type": "code",
   "execution_count": null,
   "id": "3b042c52-840f-4ebe-8cbd-95ac5ee2176e",
   "metadata": {},
   "outputs": [],
   "source": [
    "! pip install sqlite"
   ]
  },
  {
   "cell_type": "code",
   "execution_count": 28,
   "id": "b4c21f58-ffbc-4e86-a7c4-5112ba2b9f1a",
   "metadata": {
    "tags": []
   },
   "outputs": [],
   "source": [
    "import pandas as pd\n",
    "import numpy as np\n",
    "import sqlite3\n",
    "from pandas import DataFrame"
   ]
  },
  {
   "cell_type": "code",
   "execution_count": 29,
   "id": "8abe7bcd-07b3-4a84-92ab-d6c6f91fd8b4",
   "metadata": {
    "tags": []
   },
   "outputs": [],
   "source": [
    "conn = sqlite3.connect(\"../data/checking-logs.sqlite\")"
   ]
  },
  {
   "cell_type": "markdown",
   "id": "cae0161d-af84-4b03-9689-577505857c42",
   "metadata": {},
   "source": [
    "## 3. Получи схему таблицы `pageviews` с помощью `pd.io.sql.read_sql` и запроса `PRAGMA table_info(pageviews);`."
   ]
  },
  {
   "cell_type": "code",
   "execution_count": 30,
   "id": "2362c13b-a53a-46b6-bd31-77898b9ec4ad",
   "metadata": {
    "tags": []
   },
   "outputs": [
    {
     "data": {
      "text/html": [
       "<div>\n",
       "<style scoped>\n",
       "    .dataframe tbody tr th:only-of-type {\n",
       "        vertical-align: middle;\n",
       "    }\n",
       "\n",
       "    .dataframe tbody tr th {\n",
       "        vertical-align: top;\n",
       "    }\n",
       "\n",
       "    .dataframe thead th {\n",
       "        text-align: right;\n",
       "    }\n",
       "</style>\n",
       "<table border=\"1\" class=\"dataframe\">\n",
       "  <thead>\n",
       "    <tr style=\"text-align: right;\">\n",
       "      <th></th>\n",
       "      <th>cid</th>\n",
       "      <th>name</th>\n",
       "      <th>type</th>\n",
       "      <th>notnull</th>\n",
       "      <th>dflt_value</th>\n",
       "      <th>pk</th>\n",
       "    </tr>\n",
       "  </thead>\n",
       "  <tbody>\n",
       "    <tr>\n",
       "      <th>0</th>\n",
       "      <td>0</td>\n",
       "      <td>index</td>\n",
       "      <td>INTEGER</td>\n",
       "      <td>0</td>\n",
       "      <td>None</td>\n",
       "      <td>0</td>\n",
       "    </tr>\n",
       "    <tr>\n",
       "      <th>1</th>\n",
       "      <td>1</td>\n",
       "      <td>uid</td>\n",
       "      <td>TEXT</td>\n",
       "      <td>0</td>\n",
       "      <td>None</td>\n",
       "      <td>0</td>\n",
       "    </tr>\n",
       "    <tr>\n",
       "      <th>2</th>\n",
       "      <td>2</td>\n",
       "      <td>datetime</td>\n",
       "      <td>TIMESTAMP</td>\n",
       "      <td>0</td>\n",
       "      <td>None</td>\n",
       "      <td>0</td>\n",
       "    </tr>\n",
       "  </tbody>\n",
       "</table>\n",
       "</div>"
      ],
      "text/plain": [
       "   cid      name       type  notnull dflt_value  pk\n",
       "0    0     index    INTEGER        0       None   0\n",
       "1    1       uid       TEXT        0       None   0\n",
       "2    2  datetime  TIMESTAMP        0       None   0"
      ]
     },
     "execution_count": 30,
     "metadata": {},
     "output_type": "execute_result"
    }
   ],
   "source": [
    "pd.io.sql.read_sql(\"PRAGMA table_info(pageviews)\", conn)"
   ]
  },
  {
   "cell_type": "markdown",
   "id": "b5c8f327-9223-4002-95ae-f000f7d8ce58",
   "metadata": {
    "tags": []
   },
   "source": [
    "## 4. Получи только первые `10` строк таблицы `pageviews`, чтобы проверить, как она выглядит."
   ]
  },
  {
   "cell_type": "code",
   "execution_count": 31,
   "id": "10e059b5-d3de-4756-98fb-a761487a6e14",
   "metadata": {
    "tags": []
   },
   "outputs": [
    {
     "data": {
      "text/html": [
       "<div>\n",
       "<style scoped>\n",
       "    .dataframe tbody tr th:only-of-type {\n",
       "        vertical-align: middle;\n",
       "    }\n",
       "\n",
       "    .dataframe tbody tr th {\n",
       "        vertical-align: top;\n",
       "    }\n",
       "\n",
       "    .dataframe thead th {\n",
       "        text-align: right;\n",
       "    }\n",
       "</style>\n",
       "<table border=\"1\" class=\"dataframe\">\n",
       "  <thead>\n",
       "    <tr style=\"text-align: right;\">\n",
       "      <th></th>\n",
       "      <th>index</th>\n",
       "      <th>uid</th>\n",
       "      <th>datetime</th>\n",
       "    </tr>\n",
       "  </thead>\n",
       "  <tbody>\n",
       "    <tr>\n",
       "      <th>0</th>\n",
       "      <td>0</td>\n",
       "      <td>admin_1</td>\n",
       "      <td>2020-04-17 12:01:08.463179</td>\n",
       "    </tr>\n",
       "    <tr>\n",
       "      <th>1</th>\n",
       "      <td>1</td>\n",
       "      <td>admin_1</td>\n",
       "      <td>2020-04-17 12:01:23.743946</td>\n",
       "    </tr>\n",
       "    <tr>\n",
       "      <th>2</th>\n",
       "      <td>2</td>\n",
       "      <td>admin_3</td>\n",
       "      <td>2020-04-17 12:17:39.287778</td>\n",
       "    </tr>\n",
       "    <tr>\n",
       "      <th>3</th>\n",
       "      <td>3</td>\n",
       "      <td>admin_3</td>\n",
       "      <td>2020-04-17 12:17:40.001768</td>\n",
       "    </tr>\n",
       "    <tr>\n",
       "      <th>4</th>\n",
       "      <td>4</td>\n",
       "      <td>admin_1</td>\n",
       "      <td>2020-04-17 12:27:30.646665</td>\n",
       "    </tr>\n",
       "    <tr>\n",
       "      <th>5</th>\n",
       "      <td>5</td>\n",
       "      <td>admin_1</td>\n",
       "      <td>2020-04-17 12:35:44.884757</td>\n",
       "    </tr>\n",
       "    <tr>\n",
       "      <th>6</th>\n",
       "      <td>6</td>\n",
       "      <td>admin_1</td>\n",
       "      <td>2020-04-17 12:35:52.735016</td>\n",
       "    </tr>\n",
       "    <tr>\n",
       "      <th>7</th>\n",
       "      <td>7</td>\n",
       "      <td>admin_3</td>\n",
       "      <td>2020-04-17 12:36:21.401412</td>\n",
       "    </tr>\n",
       "    <tr>\n",
       "      <th>8</th>\n",
       "      <td>8</td>\n",
       "      <td>admin_3</td>\n",
       "      <td>2020-04-17 12:36:22.023355</td>\n",
       "    </tr>\n",
       "    <tr>\n",
       "      <th>9</th>\n",
       "      <td>9</td>\n",
       "      <td>admin_1</td>\n",
       "      <td>2020-04-17 13:55:19.129243</td>\n",
       "    </tr>\n",
       "  </tbody>\n",
       "</table>\n",
       "</div>"
      ],
      "text/plain": [
       "   index      uid                    datetime\n",
       "0      0  admin_1  2020-04-17 12:01:08.463179\n",
       "1      1  admin_1  2020-04-17 12:01:23.743946\n",
       "2      2  admin_3  2020-04-17 12:17:39.287778\n",
       "3      3  admin_3  2020-04-17 12:17:40.001768\n",
       "4      4  admin_1  2020-04-17 12:27:30.646665\n",
       "5      5  admin_1  2020-04-17 12:35:44.884757\n",
       "6      6  admin_1  2020-04-17 12:35:52.735016\n",
       "7      7  admin_3  2020-04-17 12:36:21.401412\n",
       "8      8  admin_3  2020-04-17 12:36:22.023355\n",
       "9      9  admin_1  2020-04-17 13:55:19.129243"
      ]
     },
     "execution_count": 31,
     "metadata": {},
     "output_type": "execute_result"
    }
   ],
   "source": [
    "pd.io.sql.read_sql(\"SELECT * from pageviews limit 10\", conn)"
   ]
  },
  {
   "cell_type": "markdown",
   "id": "4d05be29-cd75-48e2-b2a5-9192c7706491",
   "metadata": {},
   "source": [
    "## 5. Получи подтаблицу с помощью только **одного** запроса, в котором:\n",
    "    - используются только `uid` и `datetime`;\n",
    "    - используются только данные пользователей (`user_*`), и не используются данные администраторов;\n",
    "    - сортировка выполняется по `uid` в порядке возрастания;\n",
    "    - столбец индекса — это `datetime`;\n",
    "    - `datetime` преобразован в `DatetimeIndex`;\n",
    "    - имя датафрейма — `pageviews`."
   ]
  },
  {
   "cell_type": "code",
   "execution_count": 33,
   "id": "0c81b1c1-3c3e-4eef-a7d2-d47ef34c7531",
   "metadata": {
    "tags": []
   },
   "outputs": [
    {
     "data": {
      "text/html": [
       "<div>\n",
       "<style scoped>\n",
       "    .dataframe tbody tr th:only-of-type {\n",
       "        vertical-align: middle;\n",
       "    }\n",
       "\n",
       "    .dataframe tbody tr th {\n",
       "        vertical-align: top;\n",
       "    }\n",
       "\n",
       "    .dataframe thead th {\n",
       "        text-align: right;\n",
       "    }\n",
       "</style>\n",
       "<table border=\"1\" class=\"dataframe\">\n",
       "  <thead>\n",
       "    <tr style=\"text-align: right;\">\n",
       "      <th></th>\n",
       "      <th>uid</th>\n",
       "    </tr>\n",
       "    <tr>\n",
       "      <th>datetime</th>\n",
       "      <th></th>\n",
       "    </tr>\n",
       "  </thead>\n",
       "  <tbody>\n",
       "    <tr>\n",
       "      <th>2020-04-26 21:53:59.624136</th>\n",
       "      <td>user_1</td>\n",
       "    </tr>\n",
       "    <tr>\n",
       "      <th>2020-04-26 22:06:19.478143</th>\n",
       "      <td>user_1</td>\n",
       "    </tr>\n",
       "    <tr>\n",
       "      <th>2020-04-26 22:12:09.614497</th>\n",
       "      <td>user_1</td>\n",
       "    </tr>\n",
       "    <tr>\n",
       "      <th>2020-04-30 19:29:01.831635</th>\n",
       "      <td>user_1</td>\n",
       "    </tr>\n",
       "    <tr>\n",
       "      <th>2020-05-05 20:26:32.894852</th>\n",
       "      <td>user_1</td>\n",
       "    </tr>\n",
       "  </tbody>\n",
       "</table>\n",
       "</div>"
      ],
      "text/plain": [
       "                               uid\n",
       "datetime                          \n",
       "2020-04-26 21:53:59.624136  user_1\n",
       "2020-04-26 22:06:19.478143  user_1\n",
       "2020-04-26 22:12:09.614497  user_1\n",
       "2020-04-30 19:29:01.831635  user_1\n",
       "2020-05-05 20:26:32.894852  user_1"
      ]
     },
     "execution_count": 33,
     "metadata": {},
     "output_type": "execute_result"
    }
   ],
   "source": [
    "pageviews = pd.io.sql.read_sql(\n",
    "    \"SELECT datetime, uid FROM pageviews WHERE uid LIKE 'user_%' ORDER by uid\",\n",
    "    conn, index_col='datetime', parse_dates=['datetime'])\n",
    "pageviews.head(5)"
   ]
  },
  {
   "cell_type": "markdown",
   "id": "ba70d9fe-65cb-496b-b625-9292cc82145e",
   "metadata": {
    "tags": []
   },
   "source": [
    "## 6. Закрой соединение с базой данных."
   ]
  },
  {
   "cell_type": "code",
   "execution_count": 34,
   "id": "1c66363b-25bb-48bc-8a3d-5a5a77df2f3a",
   "metadata": {
    "tags": []
   },
   "outputs": [],
   "source": [
    "conn.close()"
   ]
  },
  {
   "cell_type": "code",
   "execution_count": 35,
   "id": "2ac1fe11-085d-4135-bedb-75aab49c7a4b",
   "metadata": {},
   "outputs": [
    {
     "name": "stdout",
     "output_type": "stream",
     "text": [
      "<class 'pandas.core.frame.DataFrame'>\n",
      "DatetimeIndex: 987 entries, 2020-04-26 21:53:59.624136 to 2020-05-21 16:36:40.915488\n",
      "Data columns (total 1 columns):\n",
      " #   Column  Non-Null Count  Dtype \n",
      "---  ------  --------------  ----- \n",
      " 0   uid     987 non-null    object\n",
      "dtypes: object(1)\n",
      "memory usage: 15.4+ KB\n"
     ]
    }
   ],
   "source": [
    "pageviews.info()"
   ]
  },
  {
   "cell_type": "code",
   "execution_count": null,
   "id": "665b8a10-31b5-4b7d-90e6-60fa311b9d57",
   "metadata": {},
   "outputs": [],
   "source": []
  }
 ],
 "metadata": {
  "kernelspec": {
   "display_name": "Python 3 (ipykernel)",
   "language": "python",
   "name": "python3"
  },
  "language_info": {
   "codemirror_mode": {
    "name": "ipython",
    "version": 3
   },
   "file_extension": ".py",
   "mimetype": "text/x-python",
   "name": "python",
   "nbconvert_exporter": "python",
   "pygments_lexer": "ipython3",
   "version": "3.11.4"
  }
 },
 "nbformat": 4,
 "nbformat_minor": 5
}
