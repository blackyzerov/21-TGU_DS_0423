{
 "cells": [
  {
   "cell_type": "markdown",
   "id": "a51a5d24-bd57-4a0e-8aee-b400f0550753",
   "metadata": {},
   "source": [
    "## Task 5\n",
    "Итак... давай, наконец, выясним, повлияло ли посещение ленты новостей на поведение учащихся. \n",
    "Приступили ли они в итоге к работе над лабораторным заданием раньше? Помни, что у нас есть две подготовленные \n",
    "таблицы в базе данных: `test` и `control`. Мы выполним нечто, похожее на A/B-тестирование.\n",
    "Чтобы обнаружить эффект, нам нужно вычислить значение дельты (период времени между датой первого коммита и\n",
    "сроком сдачи лабораторного задания) до того момента, когда учащиеся впервые посетили страницу с лентой новостей, и после этого.\n",
    "Мы должны сделать то же самое и для контрольной группы.\n",
    "\n",
    "Другими словами, каждый пользователь из тестовой таблицы имеет свою собственную временную метку для\n",
    "первого посещения новостной ленты. Мы хотим вычислить среднее значение дельты \n",
    "(разницу между датой первого коммита и сроком сдачи) до этой временной метки и после нее. \n",
    "Мы сделаем то же самое для пользователей в контрольной группе. Ты можешь сказать: «Но они вообще не посещали ленту новостей». \n",
    "Это так, и ранее мы решили использовать среднюю временную метку первого просмотра пользователями тестовой группы для пользователей контрольной группы.\n",
    "\n",
    "Если значение дельты перед первым посещением ленты новостей значительно отличается от этого показателя после первого \n",
    "посещения в тестовой группе, и мы не видим аналогичного эффекта в контрольной группе, значит, создание страницы \n",
    "с новостной лентой было отличной идеей. Мы можем распространить эту практику на всю группу.\n",
    "\n",
    "\n",
    "Подробное описание:"
   ]
  },
  {
   "cell_type": "markdown",
   "id": "9d9db608-07e7-4d75-a736-25bdb436cf0e",
   "metadata": {},
   "source": [
    "## 1. Создай соединение с базой данных с помощью библиотеки `sqlite3`."
   ]
  },
  {
   "cell_type": "code",
   "execution_count": 1,
   "id": "8fc2c628-f470-4152-b25e-66fa0079b94a",
   "metadata": {},
   "outputs": [],
   "source": [
    "import pandas as pd\n",
    "import numpy as np\n",
    "import sqlite3\n",
    "from pandas import DataFrame"
   ]
  },
  {
   "cell_type": "code",
   "execution_count": 2,
   "id": "e52248aa-bce0-4375-91cd-fd62b24ed96b",
   "metadata": {
    "tags": []
   },
   "outputs": [],
   "source": [
    "conn = sqlite3.connect(\"../data/checking-logs.sqlite\")"
   ]
  },
  {
   "cell_type": "markdown",
   "id": "499f840c-8154-4ee5-894b-3d391d871b80",
   "metadata": {},
   "source": [
    "## 2. Используя только **один** запрос для каждой из групп, создай два датафрейма: `test_results` и `control_results` со столбцами `time` и `avg_diff` и только двумя строками.\n",
    "    - `times` должно иметь значения `before` и `after`.\n",
    "    - `avg_diff` содержит среднее значение дельты для всех пользователей за период времени до первого посещения ленты новостей каждым из них и после этого.\n",
    "    - Учитываются только те пользователи, для которых имеются наблюдения и `before`, и `after`.\n",
    "## 3. Мы по-прежнему не используем лабораторное задание 'project1'."
   ]
  },
  {
   "cell_type": "code",
   "execution_count": 3,
   "id": "77522be0-d167-4ad3-96e1-787f0b4205b5",
   "metadata": {
    "tags": []
   },
   "outputs": [
    {
     "data": {
      "text/html": [
       "<div>\n",
       "<style scoped>\n",
       "    .dataframe tbody tr th:only-of-type {\n",
       "        vertical-align: middle;\n",
       "    }\n",
       "\n",
       "    .dataframe tbody tr th {\n",
       "        vertical-align: top;\n",
       "    }\n",
       "\n",
       "    .dataframe thead th {\n",
       "        text-align: right;\n",
       "    }\n",
       "</style>\n",
       "<table border=\"1\" class=\"dataframe\">\n",
       "  <thead>\n",
       "    <tr style=\"text-align: right;\">\n",
       "      <th></th>\n",
       "      <th>times</th>\n",
       "      <th>AVG(diff)</th>\n",
       "    </tr>\n",
       "  </thead>\n",
       "  <tbody>\n",
       "    <tr>\n",
       "      <th>0</th>\n",
       "      <td>after</td>\n",
       "      <td>-99.523810</td>\n",
       "    </tr>\n",
       "    <tr>\n",
       "      <th>1</th>\n",
       "      <td>before</td>\n",
       "      <td>-66.047619</td>\n",
       "    </tr>\n",
       "  </tbody>\n",
       "</table>\n",
       "</div>"
      ],
      "text/plain": [
       "    times  AVG(diff)\n",
       "0   after -99.523810\n",
       "1  before -66.047619"
      ]
     },
     "execution_count": 3,
     "metadata": {},
     "output_type": "execute_result"
    }
   ],
   "source": [
    "test_results = pd.io.sql.read_sql(\"\"\"SELECT  times, AVG(diff)\n",
    "        FROM\n",
    "                (SELECT uid, 'before' AS 'times', (diff)\n",
    "                FROM \n",
    "                (SELECT uid, AVG(cast((JULIANDAY(test.first_commit_ts) - \n",
    "                JULIANDAY(dl.deadlines, 'unixepoch'))*24 AS integer)) AS diff \n",
    "                FROM test \n",
    "                LEFT JOIN deadlines AS dl, \n",
    "                (SELECT uid AS id, min(first_view_ts) AS min_view\n",
    "                FROM test\n",
    "                GROUP BY uid) AS min_view\n",
    "                ON test.labname = dl.labs AND test.uid = min_view.id \n",
    "                WHERE test.labname IN ('laba04', 'laba04s', 'laba05', 'laba06', 'laba06s') \n",
    "                AND test.first_commit_ts < min_view.min_view\n",
    "                GROUP BY uid)\n",
    "            UNION\n",
    "                SELECT uid, 'after' AS 'times', (diff)\n",
    "                FROM \n",
    "                (SELECT uid, AVG(cast((JULIANDAY(test.first_commit_ts) - \n",
    "                JULIANDAY(dl.deadlines, 'unixepoch'))*24 AS integer)) AS diff \n",
    "                FROM test \n",
    "                LEFT JOIN deadlines AS dl, \n",
    "                (SELECT uid AS id, min(first_view_ts) AS min_view\n",
    "                FROM test\n",
    "                GROUP BY uid) AS min_view\n",
    "                ON test.labname = dl.labs AND test.uid = min_view.id \n",
    "                WHERE test.labname IN ('laba04', 'laba04s', 'laba05', 'laba06', 'laba06s') \n",
    "                AND test.first_commit_ts > min_view.min_view AND \n",
    "                test.uid IN \n",
    "                (SELECT uid \n",
    "                FROM test \n",
    "                LEFT JOIN deadlines AS dl, \n",
    "                (select uid AS id, min(first_view_ts) AS min_view\n",
    "                FROM test\n",
    "                GROUP BY uid) AS min_view\n",
    "                ON test.labname = dl.labs AND test.uid = min_view.id \n",
    "                WHERE test.labname IN ('laba04', 'laba04s', 'laba05', 'laba06', 'laba06s')\n",
    "                AND test.first_commit_ts < min_view.min_view\n",
    "                GROUP BY uid)\n",
    "                GROUP BY uid))\n",
    "        group by times\"\"\",\n",
    "            conn)\n",
    "test_results"
   ]
  },
  {
   "cell_type": "code",
   "execution_count": 4,
   "id": "0242cd4a-e8c8-4391-a99e-c404ddfa31bd",
   "metadata": {
    "tags": []
   },
   "outputs": [
    {
     "data": {
      "text/html": [
       "<div>\n",
       "<style scoped>\n",
       "    .dataframe tbody tr th:only-of-type {\n",
       "        vertical-align: middle;\n",
       "    }\n",
       "\n",
       "    .dataframe tbody tr th {\n",
       "        vertical-align: top;\n",
       "    }\n",
       "\n",
       "    .dataframe thead th {\n",
       "        text-align: right;\n",
       "    }\n",
       "</style>\n",
       "<table border=\"1\" class=\"dataframe\">\n",
       "  <thead>\n",
       "    <tr style=\"text-align: right;\">\n",
       "      <th></th>\n",
       "      <th>times</th>\n",
       "      <th>AVG(diff)</th>\n",
       "    </tr>\n",
       "  </thead>\n",
       "  <tbody>\n",
       "    <tr>\n",
       "      <th>0</th>\n",
       "      <td>after</td>\n",
       "      <td>-99.322222</td>\n",
       "    </tr>\n",
       "    <tr>\n",
       "      <th>1</th>\n",
       "      <td>before</td>\n",
       "      <td>-98.033333</td>\n",
       "    </tr>\n",
       "  </tbody>\n",
       "</table>\n",
       "</div>"
      ],
      "text/plain": [
       "    times  AVG(diff)\n",
       "0   after -99.322222\n",
       "1  before -98.033333"
      ]
     },
     "execution_count": 4,
     "metadata": {},
     "output_type": "execute_result"
    }
   ],
   "source": [
    "control_results = pd.io.sql.read_sql(\"\"\"SELECT  times, AVG(diff)\n",
    "        FROM\n",
    "                (SELECT uid, 'before' AS 'times', (diff)\n",
    "                FROM \n",
    "                (SELECT uid, AVG(cast((JULIANDAY(control.first_commit_ts) - \n",
    "                JULIANDAY(dl.deadlines, 'unixepoch'))*24 AS integer)) AS diff \n",
    "                FROM control \n",
    "                LEFT JOIN deadlines AS dl, \n",
    "                (SELECT uid AS id, min(first_view_ts) AS min_view\n",
    "                FROM control\n",
    "                GROUP BY uid) AS min_view\n",
    "                ON control.labname = dl.labs AND control.uid = min_view.id \n",
    "                WHERE control.labname IN ('laba04', 'laba04s', 'laba05', 'laba06', 'laba06s') \n",
    "                AND control.first_commit_ts < min_view.min_view\n",
    "                GROUP BY uid)\n",
    "            UNION\n",
    "                SELECT uid, 'after' AS 'times', (diff)\n",
    "                FROM \n",
    "                (SELECT uid, AVG(cast((JULIANDAY(control.first_commit_ts) - \n",
    "                JULIANDAY(dl.deadlines, 'unixepoch'))*24 AS integer)) AS diff \n",
    "                FROM control \n",
    "                LEFT JOIN deadlines AS dl, \n",
    "                (SELECT uid AS id, min(first_view_ts) AS min_view\n",
    "                FROM control\n",
    "                GROUP BY uid) AS min_view\n",
    "                ON control.labname = dl.labs AND control.uid = min_view.id \n",
    "                WHERE control.labname IN ('laba04', 'laba04s', 'laba05', 'laba06', 'laba06s') \n",
    "                AND control.first_commit_ts > min_view.min_view AND \n",
    "                control.uid IN \n",
    "                (SELECT uid \n",
    "                FROM control \n",
    "                LEFT JOIN deadlines AS dl, \n",
    "                (select uid AS id, min(first_view_ts) AS min_view\n",
    "                FROM control\n",
    "                GROUP BY uid) AS min_view\n",
    "                ON control.labname = dl.labs AND control.uid = min_view.id \n",
    "                WHERE control.labname IN ('laba04', 'laba04s', 'laba05', 'laba06', 'laba06s')\n",
    "                AND control.first_commit_ts < min_view.min_view\n",
    "                GROUP BY uid)\n",
    "                GROUP BY uid))\n",
    "        group by times\"\"\",\n",
    "            conn)\n",
    "control_results"
   ]
  },
  {
   "cell_type": "markdown",
   "id": "437f12f2-801c-4090-8eb6-84d7d7955a9a",
   "metadata": {},
   "source": [
    "## 4. Закрой соединение."
   ]
  },
  {
   "cell_type": "code",
   "execution_count": 5,
   "id": "4b37d8bc-49c6-4931-8f67-281197d0dc58",
   "metadata": {},
   "outputs": [],
   "source": [
    "conn.close()"
   ]
  },
  {
   "cell_type": "markdown",
   "id": "be1a5ef3-b0fa-4d67-b1d9-a6469d5ff7b4",
   "metadata": {},
   "source": [
    "## 5. Дайте ответ: оказалось ли предположение верным и влияет ли наличие страницы с новостной лентой на поведение учащихся?"
   ]
  },
  {
   "cell_type": "markdown",
   "id": "be4b41dc-2d8a-48d1-9e7a-7f3898a2de8c",
   "metadata": {},
   "source": [
    "Да в тестовой группе было различие, а в контрольной — нет."
   ]
  },
  {
   "cell_type": "code",
   "execution_count": 6,
   "id": "8bd15de1-6e07-4b47-8606-ebb045b34eb9",
   "metadata": {},
   "outputs": [
    {
     "data": {
      "text/plain": [
       "(    times  AVG(diff)\n",
       " 0   after -99.523810\n",
       " 1  before -66.047619,\n",
       "     times  AVG(diff)\n",
       " 0   after -99.322222\n",
       " 1  before -98.033333)"
      ]
     },
     "execution_count": 6,
     "metadata": {},
     "output_type": "execute_result"
    }
   ],
   "source": [
    "test_results, control_results"
   ]
  },
  {
   "cell_type": "code",
   "execution_count": null,
   "id": "ae24822a-6ee6-487c-90f6-2a322b71c0d6",
   "metadata": {},
   "outputs": [],
   "source": []
  }
 ],
 "metadata": {
  "kernelspec": {
   "display_name": "Python 3 (ipykernel)",
   "language": "python",
   "name": "python3"
  },
  "language_info": {
   "codemirror_mode": {
    "name": "ipython",
    "version": 3
   },
   "file_extension": ".py",
   "mimetype": "text/x-python",
   "name": "python",
   "nbconvert_exporter": "python",
   "pygments_lexer": "ipython3",
   "version": "3.11.4"
  }
 },
 "nbformat": 4,
 "nbformat_minor": 5
}
