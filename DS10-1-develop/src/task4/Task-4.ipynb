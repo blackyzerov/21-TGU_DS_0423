{
 "cells": [
  {
   "cell_type": "markdown",
   "id": "242600ad-6247-4fac-85df-73d3d4dbc13b",
   "metadata": {},
   "source": [
    "## Task 4\n",
    "На предыдущих этапах ты занимался просто подготовкой данных. Ты не получил никакой аналитической информации на основе имеющихся данных. Пришло время приступить к анализу. Помни, что, согласно нашему предположению, пользователи приступили бы к работе над лабораторными заданиями раньше, если бы они просмотрели ленту новостей? Это означает, что ключевой метрикой для нас является период времени (delta) между датой начала работы пользователя над лабораторным заданием (первого коммита) и сроком сдачи лабораторного задания. Мы будем смотреть на то, меняется ли она в зависимости от просмотра страницы.\n",
    "\n",
    "Что тебе нужно сделать в этом упражнении:"
   ]
  },
  {
   "cell_type": "markdown",
   "id": "bd74b789-0670-4851-87cf-9385c06dfbc0",
   "metadata": {},
   "source": [
    "## 1. Создай соединение с базой данных с помощью библиотеки `sqlite3`."
   ]
  },
  {
   "cell_type": "code",
   "execution_count": 1,
   "id": "98b40c49-7d96-4547-bdef-f4e77d0247ae",
   "metadata": {},
   "outputs": [],
   "source": [
    "import pandas as pd\n",
    "import numpy as np\n",
    "import sqlite3\n",
    "from pandas import DataFrame"
   ]
  },
  {
   "cell_type": "code",
   "execution_count": 2,
   "id": "b0843dd8-9d16-4398-9c03-e773db5f8249",
   "metadata": {
    "tags": []
   },
   "outputs": [],
   "source": [
    "conn = sqlite3.connect(\"../data/checking-logs.sqlite\")"
   ]
  },
  {
   "cell_type": "markdown",
   "id": "05cf530e-8bd2-456f-b85c-3e9716c028b4",
   "metadata": {},
   "source": [
    "## 2. Получи схему таблицы `test`."
   ]
  },
  {
   "cell_type": "code",
   "execution_count": 3,
   "id": "fbf59b23-880f-4623-b1bb-5e3c3641d5cc",
   "metadata": {},
   "outputs": [
    {
     "data": {
      "text/html": [
       "<div>\n",
       "<style scoped>\n",
       "    .dataframe tbody tr th:only-of-type {\n",
       "        vertical-align: middle;\n",
       "    }\n",
       "\n",
       "    .dataframe tbody tr th {\n",
       "        vertical-align: top;\n",
       "    }\n",
       "\n",
       "    .dataframe thead th {\n",
       "        text-align: right;\n",
       "    }\n",
       "</style>\n",
       "<table border=\"1\" class=\"dataframe\">\n",
       "  <thead>\n",
       "    <tr style=\"text-align: right;\">\n",
       "      <th></th>\n",
       "      <th>cid</th>\n",
       "      <th>name</th>\n",
       "      <th>type</th>\n",
       "      <th>notnull</th>\n",
       "      <th>dflt_value</th>\n",
       "      <th>pk</th>\n",
       "    </tr>\n",
       "  </thead>\n",
       "  <tbody>\n",
       "    <tr>\n",
       "      <th>0</th>\n",
       "      <td>0</td>\n",
       "      <td>index</td>\n",
       "      <td>INTEGER</td>\n",
       "      <td>0</td>\n",
       "      <td>None</td>\n",
       "      <td>0</td>\n",
       "    </tr>\n",
       "    <tr>\n",
       "      <th>1</th>\n",
       "      <td>1</td>\n",
       "      <td>uid</td>\n",
       "      <td>TEXT</td>\n",
       "      <td>0</td>\n",
       "      <td>None</td>\n",
       "      <td>0</td>\n",
       "    </tr>\n",
       "    <tr>\n",
       "      <th>2</th>\n",
       "      <td>2</td>\n",
       "      <td>labname</td>\n",
       "      <td>TEXT</td>\n",
       "      <td>0</td>\n",
       "      <td>None</td>\n",
       "      <td>0</td>\n",
       "    </tr>\n",
       "    <tr>\n",
       "      <th>3</th>\n",
       "      <td>3</td>\n",
       "      <td>first_commit_ts</td>\n",
       "      <td>TIMESTAMP</td>\n",
       "      <td>0</td>\n",
       "      <td>None</td>\n",
       "      <td>0</td>\n",
       "    </tr>\n",
       "    <tr>\n",
       "      <th>4</th>\n",
       "      <td>4</td>\n",
       "      <td>first_view_ts</td>\n",
       "      <td>TIMESTAMP</td>\n",
       "      <td>0</td>\n",
       "      <td>None</td>\n",
       "      <td>0</td>\n",
       "    </tr>\n",
       "  </tbody>\n",
       "</table>\n",
       "</div>"
      ],
      "text/plain": [
       "   cid             name       type  notnull dflt_value  pk\n",
       "0    0            index    INTEGER        0       None   0\n",
       "1    1              uid       TEXT        0       None   0\n",
       "2    2          labname       TEXT        0       None   0\n",
       "3    3  first_commit_ts  TIMESTAMP        0       None   0\n",
       "4    4    first_view_ts  TIMESTAMP        0       None   0"
      ]
     },
     "execution_count": 3,
     "metadata": {},
     "output_type": "execute_result"
    }
   ],
   "source": [
    "pd.io.sql.read_sql(\"PRAGMA table_info(test)\", conn)"
   ]
  },
  {
   "cell_type": "markdown",
   "id": "7c433f75-07b2-40fa-9369-594025c9b7ec",
   "metadata": {
    "tags": []
   },
   "source": [
    "## 3. Получи только первые `10` строк таблицы `test`, чтобы проверить, как она выглядит."
   ]
  },
  {
   "cell_type": "code",
   "execution_count": 4,
   "id": "1f7f5ea8-2ff2-49fa-9f96-8ffa341455d5",
   "metadata": {},
   "outputs": [
    {
     "data": {
      "text/html": [
       "<div>\n",
       "<style scoped>\n",
       "    .dataframe tbody tr th:only-of-type {\n",
       "        vertical-align: middle;\n",
       "    }\n",
       "\n",
       "    .dataframe tbody tr th {\n",
       "        vertical-align: top;\n",
       "    }\n",
       "\n",
       "    .dataframe thead th {\n",
       "        text-align: right;\n",
       "    }\n",
       "</style>\n",
       "<table border=\"1\" class=\"dataframe\">\n",
       "  <thead>\n",
       "    <tr style=\"text-align: right;\">\n",
       "      <th></th>\n",
       "      <th>index</th>\n",
       "      <th>uid</th>\n",
       "      <th>labname</th>\n",
       "      <th>first_commit_ts</th>\n",
       "      <th>first_view_ts</th>\n",
       "    </tr>\n",
       "  </thead>\n",
       "  <tbody>\n",
       "    <tr>\n",
       "      <th>0</th>\n",
       "      <td>3</td>\n",
       "      <td>user_17</td>\n",
       "      <td>project1</td>\n",
       "      <td>2020-04-18 07:56:45.408648</td>\n",
       "      <td>2020-04-18 10:56:55.833899</td>\n",
       "    </tr>\n",
       "    <tr>\n",
       "      <th>1</th>\n",
       "      <td>4</td>\n",
       "      <td>user_30</td>\n",
       "      <td>laba04</td>\n",
       "      <td>2020-04-18 13:36:53.971502</td>\n",
       "      <td>2020-04-17 22:46:26.785035</td>\n",
       "    </tr>\n",
       "    <tr>\n",
       "      <th>2</th>\n",
       "      <td>7</td>\n",
       "      <td>user_30</td>\n",
       "      <td>laba04s</td>\n",
       "      <td>2020-04-18 14:51:37.498399</td>\n",
       "      <td>2020-04-17 22:46:26.785035</td>\n",
       "    </tr>\n",
       "    <tr>\n",
       "      <th>3</th>\n",
       "      <td>8</td>\n",
       "      <td>user_14</td>\n",
       "      <td>laba04</td>\n",
       "      <td>2020-04-18 15:14:00.312338</td>\n",
       "      <td>2020-04-18 10:53:52.623447</td>\n",
       "    </tr>\n",
       "    <tr>\n",
       "      <th>4</th>\n",
       "      <td>11</td>\n",
       "      <td>user_14</td>\n",
       "      <td>laba04s</td>\n",
       "      <td>2020-04-18 22:30:30.247628</td>\n",
       "      <td>2020-04-18 10:53:52.623447</td>\n",
       "    </tr>\n",
       "    <tr>\n",
       "      <th>5</th>\n",
       "      <td>18</td>\n",
       "      <td>user_19</td>\n",
       "      <td>laba04</td>\n",
       "      <td>2020-04-20 19:05:01.297780</td>\n",
       "      <td>2020-04-21 20:30:38.034966</td>\n",
       "    </tr>\n",
       "    <tr>\n",
       "      <th>6</th>\n",
       "      <td>19</td>\n",
       "      <td>user_25</td>\n",
       "      <td>laba04</td>\n",
       "      <td>2020-04-20 19:16:50.673054</td>\n",
       "      <td>2020-05-09 23:54:54.260791</td>\n",
       "    </tr>\n",
       "    <tr>\n",
       "      <th>7</th>\n",
       "      <td>20</td>\n",
       "      <td>user_21</td>\n",
       "      <td>laba04</td>\n",
       "      <td>2020-04-21 17:48:00.487806</td>\n",
       "      <td>2020-04-22 22:40:36.824081</td>\n",
       "    </tr>\n",
       "    <tr>\n",
       "      <th>8</th>\n",
       "      <td>21</td>\n",
       "      <td>user_30</td>\n",
       "      <td>project1</td>\n",
       "      <td>2020-04-22 12:36:24.053518</td>\n",
       "      <td>2020-04-17 22:46:26.785035</td>\n",
       "    </tr>\n",
       "    <tr>\n",
       "      <th>9</th>\n",
       "      <td>23</td>\n",
       "      <td>user_21</td>\n",
       "      <td>laba04s</td>\n",
       "      <td>2020-04-22 20:09:21.857747</td>\n",
       "      <td>2020-04-22 22:40:36.824081</td>\n",
       "    </tr>\n",
       "  </tbody>\n",
       "</table>\n",
       "</div>"
      ],
      "text/plain": [
       "   index      uid   labname             first_commit_ts   \n",
       "0      3  user_17  project1  2020-04-18 07:56:45.408648  \\\n",
       "1      4  user_30    laba04  2020-04-18 13:36:53.971502   \n",
       "2      7  user_30   laba04s  2020-04-18 14:51:37.498399   \n",
       "3      8  user_14    laba04  2020-04-18 15:14:00.312338   \n",
       "4     11  user_14   laba04s  2020-04-18 22:30:30.247628   \n",
       "5     18  user_19    laba04  2020-04-20 19:05:01.297780   \n",
       "6     19  user_25    laba04  2020-04-20 19:16:50.673054   \n",
       "7     20  user_21    laba04  2020-04-21 17:48:00.487806   \n",
       "8     21  user_30  project1  2020-04-22 12:36:24.053518   \n",
       "9     23  user_21   laba04s  2020-04-22 20:09:21.857747   \n",
       "\n",
       "                first_view_ts  \n",
       "0  2020-04-18 10:56:55.833899  \n",
       "1  2020-04-17 22:46:26.785035  \n",
       "2  2020-04-17 22:46:26.785035  \n",
       "3  2020-04-18 10:53:52.623447  \n",
       "4  2020-04-18 10:53:52.623447  \n",
       "5  2020-04-21 20:30:38.034966  \n",
       "6  2020-05-09 23:54:54.260791  \n",
       "7  2020-04-22 22:40:36.824081  \n",
       "8  2020-04-17 22:46:26.785035  \n",
       "9  2020-04-22 22:40:36.824081  "
      ]
     },
     "execution_count": 4,
     "metadata": {},
     "output_type": "execute_result"
    }
   ],
   "source": [
    "pd.io.sql.read_sql(\"SELECT * from test limit 10;\", conn)"
   ]
  },
  {
   "cell_type": "markdown",
   "id": "90c78a51-b2ab-4cd0-a61a-ea4dec1f1828",
   "metadata": {},
   "source": [
    "## 4. Найди среди всех пользователей минимальное значение этой самой дельты (периода времени от даты первого коммита\n",
    "пользователя до срока сдачи соответствующего лабораторного задания), используя только один запрос.\n",
    "    - Для этого сджойни данные своей таблицы с данными таблицы `deadlines`.\n",
    "    - Период времени должен отображаться в часах.\n",
    "    - Не учитывай лабораторное задание `project1` с более длительным сроком сдачи, поскольку оно будет выделяться на фоне других.\n",
    "    - Сохрани значение в датафрейме `df_min` с соответствующим `uid`."
   ]
  },
  {
   "cell_type": "code",
   "execution_count": 5,
   "id": "1807ea68-4502-4463-921b-040689f80928",
   "metadata": {},
   "outputs": [
    {
     "data": {
      "text/html": [
       "<div>\n",
       "<style scoped>\n",
       "    .dataframe tbody tr th:only-of-type {\n",
       "        vertical-align: middle;\n",
       "    }\n",
       "\n",
       "    .dataframe tbody tr th {\n",
       "        vertical-align: top;\n",
       "    }\n",
       "\n",
       "    .dataframe thead th {\n",
       "        text-align: right;\n",
       "    }\n",
       "</style>\n",
       "<table border=\"1\" class=\"dataframe\">\n",
       "  <thead>\n",
       "    <tr style=\"text-align: right;\">\n",
       "      <th></th>\n",
       "      <th>uid</th>\n",
       "      <th>MIN(diff)</th>\n",
       "    </tr>\n",
       "  </thead>\n",
       "  <tbody>\n",
       "    <tr>\n",
       "      <th>0</th>\n",
       "      <td>user_30</td>\n",
       "      <td>-202</td>\n",
       "    </tr>\n",
       "  </tbody>\n",
       "</table>\n",
       "</div>"
      ],
      "text/plain": [
       "       uid  MIN(diff)\n",
       "0  user_30       -202"
      ]
     },
     "execution_count": 5,
     "metadata": {},
     "output_type": "execute_result"
    }
   ],
   "source": [
    "df_min = pd.io.sql.read_sql(\"\"\"SELECT t.uid, CAST(MIN(JULIANDAY(t.first_commit_ts) - \n",
    "                            JULIANDAY(dl.deadlines, 'unixepoch'))*24 AS INTEGER) AS 'MIN(diff)'\n",
    "                            FROM test AS t\n",
    "                            LEFT JOIN deadlines AS dl\n",
    "                            ON t.labname = dl.labs\n",
    "                            WHERE t.labname IN ('laba04','laba04s','laba05','laba06','laba06s');\"\"\", \n",
    "                            conn)\n",
    "df_min.to_sql('df_min', conn, if_exists='replace')\n",
    "df_min"
   ]
  },
  {
   "cell_type": "markdown",
   "id": "be792b49-9687-441d-bf68-927d9a2af38e",
   "metadata": {
    "tags": []
   },
   "source": [
    "## 5. Выполни те же самые операции для максимального значения дельты, используя только **один** запрос. Название итогового датафрейма — `df_max`."
   ]
  },
  {
   "cell_type": "code",
   "execution_count": 6,
   "id": "37f8aab4-d9db-4fb1-9bb0-13f88dcb0204",
   "metadata": {},
   "outputs": [
    {
     "data": {
      "text/html": [
       "<div>\n",
       "<style scoped>\n",
       "    .dataframe tbody tr th:only-of-type {\n",
       "        vertical-align: middle;\n",
       "    }\n",
       "\n",
       "    .dataframe tbody tr th {\n",
       "        vertical-align: top;\n",
       "    }\n",
       "\n",
       "    .dataframe thead th {\n",
       "        text-align: right;\n",
       "    }\n",
       "</style>\n",
       "<table border=\"1\" class=\"dataframe\">\n",
       "  <thead>\n",
       "    <tr style=\"text-align: right;\">\n",
       "      <th></th>\n",
       "      <th>uid</th>\n",
       "      <th>MAX(diff)</th>\n",
       "    </tr>\n",
       "  </thead>\n",
       "  <tbody>\n",
       "    <tr>\n",
       "      <th>0</th>\n",
       "      <td>user_25</td>\n",
       "      <td>-2</td>\n",
       "    </tr>\n",
       "  </tbody>\n",
       "</table>\n",
       "</div>"
      ],
      "text/plain": [
       "       uid  MAX(diff)\n",
       "0  user_25         -2"
      ]
     },
     "execution_count": 6,
     "metadata": {},
     "output_type": "execute_result"
    }
   ],
   "source": [
    "df_max = pd.io.sql.read_sql(\"\"\"SELECT t.uid, CAST(MAX(JULIANDAY(t.first_commit_ts) - \n",
    "                            JULIANDAY(dl.deadlines, 'unixepoch'))*24 AS INTEGER) AS 'MAX(diff)'\n",
    "                            FROM test AS t\n",
    "                            LEFT JOIN deadlines AS dl\n",
    "                            ON t.labname = dl.labs\n",
    "                            WHERE t.labname IN ('laba04','laba04s','laba05','laba06','laba06s');\"\"\", \n",
    "                            conn)\n",
    "df_max.to_sql('df_max', conn, if_exists='replace')\n",
    "df_max"
   ]
  },
  {
   "cell_type": "markdown",
   "id": "020dbc12-2943-4b3e-9fc7-2bd0ca92a3a1",
   "metadata": {},
   "source": [
    "## 6. Выполни те же самые операции для среднего значения дельты, используя только один запрос. На этот раз ваш итоговый датафрейм не должен включать столбец `uid`; имя датафрейма — `df_avg`."
   ]
  },
  {
   "cell_type": "code",
   "execution_count": 7,
   "id": "1d3f7348-ae1b-4117-a78d-fd3cc29b7cd2",
   "metadata": {},
   "outputs": [
    {
     "data": {
      "text/html": [
       "<div>\n",
       "<style scoped>\n",
       "    .dataframe tbody tr th:only-of-type {\n",
       "        vertical-align: middle;\n",
       "    }\n",
       "\n",
       "    .dataframe tbody tr th {\n",
       "        vertical-align: top;\n",
       "    }\n",
       "\n",
       "    .dataframe thead th {\n",
       "        text-align: right;\n",
       "    }\n",
       "</style>\n",
       "<table border=\"1\" class=\"dataframe\">\n",
       "  <thead>\n",
       "    <tr style=\"text-align: right;\">\n",
       "      <th></th>\n",
       "      <th>AVG(diff)</th>\n",
       "    </tr>\n",
       "  </thead>\n",
       "  <tbody>\n",
       "    <tr>\n",
       "      <th>0</th>\n",
       "      <td>-89.125</td>\n",
       "    </tr>\n",
       "  </tbody>\n",
       "</table>\n",
       "</div>"
      ],
      "text/plain": [
       "   AVG(diff)\n",
       "0    -89.125"
      ]
     },
     "execution_count": 7,
     "metadata": {},
     "output_type": "execute_result"
    }
   ],
   "source": [
    "df_avg = pd.io.sql.read_sql(\"\"\"SELECT AVG(CAST((JULIANDAY(t.first_commit_ts) - \n",
    "                            JULIANDAY(dl.deadlines, 'unixepoch'))*24 AS INTEGER)) AS 'AVG(diff)'\n",
    "                            FROM test AS t\n",
    "                            LEFT JOIN deadlines AS dl\n",
    "                            ON t.labname = dl.labs\n",
    "                            WHERE t.labname IN ('laba04','laba04s','laba05','laba06','laba06s');\"\"\", \n",
    "                            conn)\n",
    "df_avg.to_sql('df_avg', conn, if_exists='replace')\n",
    "df_avg"
   ]
  },
  {
   "cell_type": "markdown",
   "id": "c54fed15-ba50-454f-b902-c13f1cc50e95",
   "metadata": {},
   "source": [
    "## 7. Мы хотим проверить предположение о том, что у пользователей, посетивших ленту новостей всего несколько раз, период времени между датой первого коммита и сроком сдачи лабораторного задания меньше. Для этого тебе необходимо рассчитать коэффициент корреляции между количеством просмотров страниц и разницей между датами.\n",
    "    - Используя только **один** запрос, создай таблицу со столбцами: `uid`, `avg_diff`, `pageviews`.\n",
    "        - `uid` — это uid, существующие в таблице `test`.\n",
    "        - `avg_diff` — среднее значение дельты (периода времени между датой первого коммита и сроком сдачи лабораторного задания) для каждого пользователя.\n",
    "        - `pageviews` — количество посещений ленты новостей одним пользователем.\n",
    "    - Не учитывай лабораторное задание `project1`.\n",
    "    - Сохрани результаты в датафрейме `views_diff`.\n",
    "    - Используй метод `corr()` библиотеки Pandas для вычисления коэффициента корреляции между количеством просмотров и значением дельты."
   ]
  },
  {
   "cell_type": "code",
   "execution_count": 8,
   "id": "32e82992-f4f5-4e3c-80ff-525a2fa17720",
   "metadata": {},
   "outputs": [
    {
     "data": {
      "text/html": [
       "<div>\n",
       "<style scoped>\n",
       "    .dataframe tbody tr th:only-of-type {\n",
       "        vertical-align: middle;\n",
       "    }\n",
       "\n",
       "    .dataframe tbody tr th {\n",
       "        vertical-align: top;\n",
       "    }\n",
       "\n",
       "    .dataframe thead th {\n",
       "        text-align: right;\n",
       "    }\n",
       "</style>\n",
       "<table border=\"1\" class=\"dataframe\">\n",
       "  <thead>\n",
       "    <tr style=\"text-align: right;\">\n",
       "      <th></th>\n",
       "      <th>diff_avg</th>\n",
       "      <th>pageviews</th>\n",
       "    </tr>\n",
       "    <tr>\n",
       "      <th>uid</th>\n",
       "      <th></th>\n",
       "      <th></th>\n",
       "    </tr>\n",
       "  </thead>\n",
       "  <tbody>\n",
       "    <tr>\n",
       "      <th>user_1</th>\n",
       "      <td>-64.400000</td>\n",
       "      <td>28</td>\n",
       "    </tr>\n",
       "    <tr>\n",
       "      <th>user_10</th>\n",
       "      <td>-74.800000</td>\n",
       "      <td>89</td>\n",
       "    </tr>\n",
       "    <tr>\n",
       "      <th>user_14</th>\n",
       "      <td>-159.000000</td>\n",
       "      <td>143</td>\n",
       "    </tr>\n",
       "    <tr>\n",
       "      <th>user_17</th>\n",
       "      <td>-61.600000</td>\n",
       "      <td>47</td>\n",
       "    </tr>\n",
       "    <tr>\n",
       "      <th>user_18</th>\n",
       "      <td>-5.666667</td>\n",
       "      <td>3</td>\n",
       "    </tr>\n",
       "    <tr>\n",
       "      <th>user_19</th>\n",
       "      <td>-98.750000</td>\n",
       "      <td>16</td>\n",
       "    </tr>\n",
       "    <tr>\n",
       "      <th>user_21</th>\n",
       "      <td>-95.500000</td>\n",
       "      <td>10</td>\n",
       "    </tr>\n",
       "    <tr>\n",
       "      <th>user_25</th>\n",
       "      <td>-92.600000</td>\n",
       "      <td>179</td>\n",
       "    </tr>\n",
       "    <tr>\n",
       "      <th>user_28</th>\n",
       "      <td>-86.400000</td>\n",
       "      <td>149</td>\n",
       "    </tr>\n",
       "    <tr>\n",
       "      <th>user_3</th>\n",
       "      <td>-105.400000</td>\n",
       "      <td>317</td>\n",
       "    </tr>\n",
       "    <tr>\n",
       "      <th>user_30</th>\n",
       "      <td>-145.250000</td>\n",
       "      <td>3</td>\n",
       "    </tr>\n",
       "  </tbody>\n",
       "</table>\n",
       "</div>"
      ],
      "text/plain": [
       "           diff_avg  pageviews\n",
       "uid                           \n",
       "user_1   -64.400000         28\n",
       "user_10  -74.800000         89\n",
       "user_14 -159.000000        143\n",
       "user_17  -61.600000         47\n",
       "user_18   -5.666667          3\n",
       "user_19  -98.750000         16\n",
       "user_21  -95.500000         10\n",
       "user_25  -92.600000        179\n",
       "user_28  -86.400000        149\n",
       "user_3  -105.400000        317\n",
       "user_30 -145.250000          3"
      ]
     },
     "execution_count": 8,
     "metadata": {},
     "output_type": "execute_result"
    }
   ],
   "source": [
    "views_diff = pd.io.sql.read_sql(\"\"\"SELECT DISTINCT t.uid, t.diff_avg, p.pageviews FROM\n",
    "            (SELECT uid, AVG(cast((JULIANDAY(test.first_commit_ts) - \n",
    "            JULIANDAY(dl.deadlines, 'unixepoch'))*24 AS integer)) AS diff_avg\n",
    "            FROM test\n",
    "            LEFT JOIN deadlines AS dl\n",
    "            ON test.labname = dl.labs\n",
    "            WHERE test.labname IN ('laba04', 'laba04s', 'laba05', 'laba06', 'laba06s')\n",
    "            GROUP BY uid) AS t\n",
    "            LEFT JOIN\n",
    "            (SELECT uid, COUNT(datetime) AS pageviews\n",
    "            FROM pageviews\n",
    "            GROUP BY uid) AS p\n",
    "            ON t.uid = p.uid\"\"\",\n",
    "            conn, index_col='uid')\n",
    "views_diff.to_sql('df_avg', conn, if_exists='replace')\n",
    "views_diff             "
   ]
  },
  {
   "cell_type": "code",
   "execution_count": 9,
   "id": "00b1ecdd-95be-41ae-9406-2eeb7aca978b",
   "metadata": {
    "tags": []
   },
   "outputs": [
    {
     "data": {
      "text/html": [
       "<div>\n",
       "<style scoped>\n",
       "    .dataframe tbody tr th:only-of-type {\n",
       "        vertical-align: middle;\n",
       "    }\n",
       "\n",
       "    .dataframe tbody tr th {\n",
       "        vertical-align: top;\n",
       "    }\n",
       "\n",
       "    .dataframe thead th {\n",
       "        text-align: right;\n",
       "    }\n",
       "</style>\n",
       "<table border=\"1\" class=\"dataframe\">\n",
       "  <thead>\n",
       "    <tr style=\"text-align: right;\">\n",
       "      <th></th>\n",
       "      <th>diff_avg</th>\n",
       "      <th>pageviews</th>\n",
       "    </tr>\n",
       "  </thead>\n",
       "  <tbody>\n",
       "    <tr>\n",
       "      <th>diff_avg</th>\n",
       "      <td>1.000000</td>\n",
       "      <td>-0.279736</td>\n",
       "    </tr>\n",
       "    <tr>\n",
       "      <th>pageviews</th>\n",
       "      <td>-0.279736</td>\n",
       "      <td>1.000000</td>\n",
       "    </tr>\n",
       "  </tbody>\n",
       "</table>\n",
       "</div>"
      ],
      "text/plain": [
       "           diff_avg  pageviews\n",
       "diff_avg   1.000000  -0.279736\n",
       "pageviews -0.279736   1.000000"
      ]
     },
     "execution_count": 9,
     "metadata": {},
     "output_type": "execute_result"
    }
   ],
   "source": [
    "views_diff.corr()"
   ]
  },
  {
   "cell_type": "markdown",
   "id": "6dd04a41-fa6a-4963-bb74-86acaafa4a55",
   "metadata": {},
   "source": [
    "8. Закрой соединение."
   ]
  },
  {
   "cell_type": "code",
   "execution_count": 21,
   "id": "2545e28b-be40-4256-99c5-2506c0135754",
   "metadata": {},
   "outputs": [],
   "source": [
    "conn.close()"
   ]
  },
  {
   "cell_type": "code",
   "execution_count": null,
   "id": "ad68dc00-b56f-4e48-9c9a-dadf233e4451",
   "metadata": {},
   "outputs": [],
   "source": []
  }
 ],
 "metadata": {
  "kernelspec": {
   "display_name": "Python 3 (ipykernel)",
   "language": "python",
   "name": "python3"
  },
  "language_info": {
   "codemirror_mode": {
    "name": "ipython",
    "version": 3
   },
   "file_extension": ".py",
   "mimetype": "text/x-python",
   "name": "python",
   "nbconvert_exporter": "python",
   "pygments_lexer": "ipython3",
   "version": "3.11.4"
  }
 },
 "nbformat": 4,
 "nbformat_minor": 5
}
