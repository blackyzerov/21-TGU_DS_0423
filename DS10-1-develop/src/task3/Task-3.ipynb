{
 "cells": [
  {
   "cell_type": "markdown",
   "id": "36ff0279-2d8c-440b-ac92-9501e7cbcc36",
   "metadata": {},
   "source": [
    "## Task 3\n",
    "В этом упражнении ты создашь так называемую витрину данных. Она представляет собой таблицу, \n",
    "которую можно использовать для аналитических целей. Обычно она создается путем объединения нескольких отдельных таблиц. \n",
    "В этом упражнении мы будем собирать различные данные о наших пользователях: когда они сделали свои первые коммиты, \n",
    "когда они впервые посетили ленту новостей и т. д. Это поможет позднее выполнить анализ данных.\n",
    "\n",
    "Что тебе нужно сделать в этом упражнении (ознакомься с полным описанием задания):"
   ]
  },
  {
   "cell_type": "markdown",
   "id": "b16bf4d7-7f9f-47ea-b520-dd847f51afee",
   "metadata": {},
   "source": [
    "## 1. Создай соединение с базой данных с помощью библиотеки `sqlite3`."
   ]
  },
  {
   "cell_type": "code",
   "execution_count": null,
   "id": "72885248-5c56-4657-8ea0-e18f60abb172",
   "metadata": {},
   "outputs": [],
   "source": [
    "! pip install sqlalchemy"
   ]
  },
  {
   "cell_type": "code",
   "execution_count": 47,
   "id": "8d3a76a4-baed-4616-a72e-053afafc0aa4",
   "metadata": {
    "tags": []
   },
   "outputs": [],
   "source": [
    "import pandas as pd\n",
    "import numpy as np\n",
    "import sqlite3\n",
    "from pandas import DataFrame"
   ]
  },
  {
   "cell_type": "code",
   "execution_count": 48,
   "id": "32b33d89-d0fb-46fb-858c-5badf8334729",
   "metadata": {
    "tags": []
   },
   "outputs": [],
   "source": [
    "conn = sqlite3.connect(\"../data/checking-logs.sqlite\")"
   ]
  },
  {
   "cell_type": "markdown",
   "id": "da4e7af3-0805-4d6e-8850-cb866db3e61d",
   "metadata": {
    "tags": []
   },
   "source": [
    "## 2. Создай новую таблицу `datamart` в базе данных, объединив таблицы `pageviews` и `checker` с помощью только **одного** запроса.\n",
    "    - Таблица должна содержать следующие столбцы: `uid`, `labname`, `first_commit_ts`, `first_view_ts`.\n",
    "    - `first_commit_ts` — это просто новое имя для столбца `timestamp` из таблицы `checker`; он показывает первый коммит конкретного лабораторного задания конкретного пользователя.\n",
    "    - `first_view_ts` — первое посещение пользователем из таблицы `pageviews`, метка времени посещения пользователем ленты новостей.\n",
    "    - По-прежнему нужно использовать фильтр `status = 'ready'`.\n",
    "    - По-прежнему нужно использовать фильтр `numTrials = 1`.\n",
    "    - Имена лабораторных заданий по-прежнему должны быть из следующего списка: `laba04`, `laba04s`, `laba05`, `laba06`, `laba06s`, `project1`.\n",
    "    - Таблица должна содержать только пользователей (`uid` с `user_*`), а не администраторов.\n",
    "    - `first_commit_ts` и `first_view_ts` должны быть распарсены как `datetime64[ns]`."
   ]
  },
  {
   "cell_type": "code",
   "execution_count": 49,
   "id": "16c098cc-f63f-4cae-a22d-be06d825bc70",
   "metadata": {
    "tags": []
   },
   "outputs": [
    {
     "data": {
      "text/plain": [
       "140"
      ]
     },
     "execution_count": 49,
     "metadata": {},
     "output_type": "execute_result"
    }
   ],
   "source": [
    "datamart = pd.io.sql.read_sql(\"\"\"SELECT c.uid, c.labname, c.timestamp AS first_commit_ts,\n",
    "                            MIN(p.datetime) AS first_view_ts\n",
    "                            FROM checker AS c\n",
    "                            LEFT JOIN pageviews AS p\n",
    "                            ON c.uid=p.uid\n",
    "                            WHERE c.status='ready' \n",
    "                            AND c.numTrials=1 \n",
    "                            AND c.labname IN ('laba04','laba04s','laba05','laba06','laba06s','project1')\n",
    "                            AND c.uid LIKE 'user_%'\n",
    "                            GROUP BY c.timestamp, c.uid;\"\"\", \n",
    "                            conn, parse_dates=['first_commit_ts', 'first_view_ts'])\n",
    "datamart.to_sql('datamart', conn, if_exists='replace')                                                  "
   ]
  },
  {
   "cell_type": "code",
   "execution_count": 50,
   "id": "3d4e9718-4cdc-4ecb-b3fc-c9da5477d7e8",
   "metadata": {
    "tags": []
   },
   "outputs": [
    {
     "name": "stdout",
     "output_type": "stream",
     "text": [
      "<class 'pandas.core.frame.DataFrame'>\n",
      "RangeIndex: 140 entries, 0 to 139\n",
      "Data columns (total 4 columns):\n",
      " #   Column           Non-Null Count  Dtype         \n",
      "---  ------           --------------  -----         \n",
      " 0   uid              140 non-null    object        \n",
      " 1   labname          140 non-null    object        \n",
      " 2   first_commit_ts  140 non-null    datetime64[ns]\n",
      " 3   first_view_ts    59 non-null     datetime64[ns]\n",
      "dtypes: datetime64[ns](2), object(2)\n",
      "memory usage: 4.5+ KB\n"
     ]
    }
   ],
   "source": [
    "datamart.info()"
   ]
  },
  {
   "cell_type": "markdown",
   "id": "e31c7792-20c7-41b6-bebc-17a6418525ea",
   "metadata": {},
   "source": [
    "## 3. Используя методы библиотеки Pandas, создай два датафрейма: `test` и `control`.\n",
    "    - `test` должен включать пользователей, у которых имеются значения в `first_view_ts`.\n",
    "    - `control` должен включать пользователей, у которых отсутствуют значения в `first_view_ts`.\n",
    "    - Замени пропущенные значения в `control` средним значением `first_view_ts` пользователей из `test` (оно пригодится нам для анализа в будущем).\n",
    "    - Сохрани обе таблицы в базе данных (вы будете использовать их в следующих упражнениях)."
   ]
  },
  {
   "cell_type": "code",
   "execution_count": 51,
   "id": "ce261014-f6f1-4f57-b0cc-15a251f2e71c",
   "metadata": {},
   "outputs": [
    {
     "data": {
      "text/plain": [
       "81"
      ]
     },
     "execution_count": 51,
     "metadata": {},
     "output_type": "execute_result"
    }
   ],
   "source": [
    "test = datamart.dropna().copy()\n",
    "control = datamart[datamart.first_view_ts.isna()].copy()\n",
    "control.first_view_ts = test.first_view_ts.mean()\n",
    "test.to_sql('test', conn, if_exists='replace')\n",
    "control.to_sql('control', conn, if_exists='replace')"
   ]
  },
  {
   "cell_type": "code",
   "execution_count": 52,
   "id": "045e9e08-3cba-465a-8490-a5fee191e798",
   "metadata": {
    "tags": []
   },
   "outputs": [
    {
     "name": "stdout",
     "output_type": "stream",
     "text": [
      "<class 'pandas.core.frame.DataFrame'>\n",
      "Index: 59 entries, 3 to 139\n",
      "Data columns (total 4 columns):\n",
      " #   Column           Non-Null Count  Dtype         \n",
      "---  ------           --------------  -----         \n",
      " 0   uid              59 non-null     object        \n",
      " 1   labname          59 non-null     object        \n",
      " 2   first_commit_ts  59 non-null     datetime64[ns]\n",
      " 3   first_view_ts    59 non-null     datetime64[ns]\n",
      "dtypes: datetime64[ns](2), object(2)\n",
      "memory usage: 2.3+ KB\n"
     ]
    }
   ],
   "source": [
    "test.info()"
   ]
  },
  {
   "cell_type": "code",
   "execution_count": 53,
   "id": "28b14d39-0651-4690-ad60-96817b07771a",
   "metadata": {
    "tags": []
   },
   "outputs": [
    {
     "name": "stdout",
     "output_type": "stream",
     "text": [
      "<class 'pandas.core.frame.DataFrame'>\n",
      "Index: 81 entries, 0 to 137\n",
      "Data columns (total 4 columns):\n",
      " #   Column           Non-Null Count  Dtype         \n",
      "---  ------           --------------  -----         \n",
      " 0   uid              81 non-null     object        \n",
      " 1   labname          81 non-null     object        \n",
      " 2   first_commit_ts  81 non-null     datetime64[ns]\n",
      " 3   first_view_ts    81 non-null     datetime64[ns]\n",
      "dtypes: datetime64[ns](2), object(2)\n",
      "memory usage: 3.2+ KB\n"
     ]
    }
   ],
   "source": [
    "control.info()"
   ]
  },
  {
   "cell_type": "markdown",
   "id": "22aecd74-cb49-4930-85c3-83178c6370e0",
   "metadata": {},
   "source": [
    "## 4. Закрой соединение."
   ]
  },
  {
   "cell_type": "code",
   "execution_count": 56,
   "id": "d7ac64af-ba72-431f-9d9e-7fc706aa92ab",
   "metadata": {
    "tags": []
   },
   "outputs": [],
   "source": [
    "conn.close()"
   ]
  },
  {
   "cell_type": "code",
   "execution_count": 59,
   "id": "01c0805d-5eb0-442a-8c41-1aa4ea72bf2b",
   "metadata": {
    "tags": []
   },
   "outputs": [],
   "source": [
    "conn = sqlite3.connect(\"../data/checking-logs.sqlite\")"
   ]
  },
  {
   "cell_type": "code",
   "execution_count": 60,
   "id": "377dfb3c-9afb-4d1d-8ed7-0d770f28cb48",
   "metadata": {
    "tags": []
   },
   "outputs": [],
   "source": [
    "test = pd.io.sql.read_sql('SELECT * FROM test', conn)"
   ]
  },
  {
   "cell_type": "code",
   "execution_count": 61,
   "id": "ae4b88ea-c045-4cd1-88ea-00fc3eeb7ae3",
   "metadata": {
    "tags": []
   },
   "outputs": [],
   "source": [
    "control = pd.io.sql.read_sql('SELECT * FROM control', conn)"
   ]
  },
  {
   "cell_type": "code",
   "execution_count": null,
   "id": "4f62840f-a4d3-45b0-b945-d7330b11c4fa",
   "metadata": {},
   "outputs": [],
   "source": []
  }
 ],
 "metadata": {
  "kernelspec": {
   "display_name": "Python 3 (ipykernel)",
   "language": "python",
   "name": "python3"
  },
  "language_info": {
   "codemirror_mode": {
    "name": "ipython",
    "version": 3
   },
   "file_extension": ".py",
   "mimetype": "text/x-python",
   "name": "python",
   "nbconvert_exporter": "python",
   "pygments_lexer": "ipython3",
   "version": "3.11.4"
  }
 },
 "nbformat": 4,
 "nbformat_minor": 5
}
