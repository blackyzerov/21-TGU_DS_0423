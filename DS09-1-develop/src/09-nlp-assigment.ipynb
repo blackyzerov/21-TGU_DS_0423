{
 "cells": [
  {
   "cell_type": "markdown",
   "id": "e73517c0-2692-4321-846c-9d8d61141d9a",
   "metadata": {},
   "source": [
    "# Natural language processing"
   ]
  },
  {
   "cell_type": "markdown",
   "id": "bd08f95f-ff3d-41c2-aff8-a33c99136b40",
   "metadata": {},
   "source": [
    "## Task 1"
   ]
  },
  {
   "cell_type": "markdown",
   "id": "100e1fc2-654c-4f05-8171-8ac4ca7d9acc",
   "metadata": {},
   "source": [
    "Загрузи датасет. Отрисуй Bar-plot с количеством комментариев для каждой категории токсичности \n",
    "и комментариев без токсичности.\n",
    "![sample](../misc/images/bar-plot.png)\n",
    "Выведи эти количества для каждой категории. "
   ]
  },
  {
   "cell_type": "code",
   "execution_count": 1,
   "id": "c53dce91-7c94-4d1f-9158-c9e8130b111d",
   "metadata": {
    "tags": []
   },
   "outputs": [],
   "source": [
    "''' toxic - токсичный,\n",
    "    severe_toxic - серьезный,\n",
    "    obscene - непристойный,\n",
    "    threat - угроза,\n",
    "    insult - оскорбление,\n",
    "    identify_hate - идентифицирующий ненависть\n",
    "'''\n",
    "import pandas as pd\n",
    "data = pd.read_csv('../datasets/toxic.csv')\n",
    "#data.head(2)"
   ]
  },
  {
   "cell_type": "code",
   "execution_count": 2,
   "id": "a14a2121-7e3c-4d45-83a4-df6557b81ea1",
   "metadata": {
    "tags": []
   },
   "outputs": [
    {
     "data": {
      "text/plain": [
       "False"
      ]
     },
     "execution_count": 2,
     "metadata": {},
     "output_type": "execute_result"
    }
   ],
   "source": [
    "data.isnull().values.any() #Проверяем на наличие строк с Nan\n",
    "data.duplicated().values.any() #проверяем на наличие повторов"
   ]
  },
  {
   "cell_type": "code",
   "execution_count": 3,
   "id": "af857038-062c-4c27-af14-9a0c6723329d",
   "metadata": {
    "tags": []
   },
   "outputs": [
    {
     "data": {
      "text/html": [
       "<div>\n",
       "<style scoped>\n",
       "    .dataframe tbody tr th:only-of-type {\n",
       "        vertical-align: middle;\n",
       "    }\n",
       "\n",
       "    .dataframe tbody tr th {\n",
       "        vertical-align: top;\n",
       "    }\n",
       "\n",
       "    .dataframe thead th {\n",
       "        text-align: right;\n",
       "    }\n",
       "</style>\n",
       "<table border=\"1\" class=\"dataframe\">\n",
       "  <thead>\n",
       "    <tr style=\"text-align: right;\">\n",
       "      <th></th>\n",
       "      <th>id</th>\n",
       "      <th>comment_text</th>\n",
       "      <th>toxic</th>\n",
       "      <th>severe_toxic</th>\n",
       "      <th>obscene</th>\n",
       "      <th>threat</th>\n",
       "      <th>insult</th>\n",
       "      <th>identity_hate</th>\n",
       "      <th>not_toxic</th>\n",
       "    </tr>\n",
       "  </thead>\n",
       "  <tbody>\n",
       "    <tr>\n",
       "      <th>0</th>\n",
       "      <td>0000997932d777bf</td>\n",
       "      <td>Explanation\\nWhy the edits made under my usern...</td>\n",
       "      <td>0</td>\n",
       "      <td>0</td>\n",
       "      <td>0</td>\n",
       "      <td>0</td>\n",
       "      <td>0</td>\n",
       "      <td>0</td>\n",
       "      <td>1</td>\n",
       "    </tr>\n",
       "    <tr>\n",
       "      <th>1</th>\n",
       "      <td>000103f0d9cfb60f</td>\n",
       "      <td>D'aww! He matches this background colour I'm s...</td>\n",
       "      <td>0</td>\n",
       "      <td>0</td>\n",
       "      <td>0</td>\n",
       "      <td>0</td>\n",
       "      <td>0</td>\n",
       "      <td>0</td>\n",
       "      <td>1</td>\n",
       "    </tr>\n",
       "    <tr>\n",
       "      <th>2</th>\n",
       "      <td>000113f07ec002fd</td>\n",
       "      <td>Hey man, I'm really not trying to edit war. It...</td>\n",
       "      <td>0</td>\n",
       "      <td>0</td>\n",
       "      <td>0</td>\n",
       "      <td>0</td>\n",
       "      <td>0</td>\n",
       "      <td>0</td>\n",
       "      <td>1</td>\n",
       "    </tr>\n",
       "    <tr>\n",
       "      <th>3</th>\n",
       "      <td>0001b41b1c6bb37e</td>\n",
       "      <td>\"\\nMore\\nI can't make any real suggestions on ...</td>\n",
       "      <td>0</td>\n",
       "      <td>0</td>\n",
       "      <td>0</td>\n",
       "      <td>0</td>\n",
       "      <td>0</td>\n",
       "      <td>0</td>\n",
       "      <td>1</td>\n",
       "    </tr>\n",
       "    <tr>\n",
       "      <th>4</th>\n",
       "      <td>0001d958c54c6e35</td>\n",
       "      <td>You, sir, are my hero. Any chance you remember...</td>\n",
       "      <td>0</td>\n",
       "      <td>0</td>\n",
       "      <td>0</td>\n",
       "      <td>0</td>\n",
       "      <td>0</td>\n",
       "      <td>0</td>\n",
       "      <td>1</td>\n",
       "    </tr>\n",
       "    <tr>\n",
       "      <th>5</th>\n",
       "      <td>00025465d4725e87</td>\n",
       "      <td>\"\\n\\nCongratulations from me as well, use the ...</td>\n",
       "      <td>0</td>\n",
       "      <td>0</td>\n",
       "      <td>0</td>\n",
       "      <td>0</td>\n",
       "      <td>0</td>\n",
       "      <td>0</td>\n",
       "      <td>1</td>\n",
       "    </tr>\n",
       "    <tr>\n",
       "      <th>6</th>\n",
       "      <td>0002bcb3da6cb337</td>\n",
       "      <td>COCKSUCKER BEFORE YOU PISS AROUND ON MY WORK</td>\n",
       "      <td>1</td>\n",
       "      <td>1</td>\n",
       "      <td>1</td>\n",
       "      <td>0</td>\n",
       "      <td>1</td>\n",
       "      <td>0</td>\n",
       "      <td>0</td>\n",
       "    </tr>\n",
       "  </tbody>\n",
       "</table>\n",
       "</div>"
      ],
      "text/plain": [
       "                 id                                       comment_text  toxic   \n",
       "0  0000997932d777bf  Explanation\\nWhy the edits made under my usern...      0  \\\n",
       "1  000103f0d9cfb60f  D'aww! He matches this background colour I'm s...      0   \n",
       "2  000113f07ec002fd  Hey man, I'm really not trying to edit war. It...      0   \n",
       "3  0001b41b1c6bb37e  \"\\nMore\\nI can't make any real suggestions on ...      0   \n",
       "4  0001d958c54c6e35  You, sir, are my hero. Any chance you remember...      0   \n",
       "5  00025465d4725e87  \"\\n\\nCongratulations from me as well, use the ...      0   \n",
       "6  0002bcb3da6cb337       COCKSUCKER BEFORE YOU PISS AROUND ON MY WORK      1   \n",
       "\n",
       "   severe_toxic  obscene  threat  insult  identity_hate  not_toxic  \n",
       "0             0        0       0       0              0          1  \n",
       "1             0        0       0       0              0          1  \n",
       "2             0        0       0       0              0          1  \n",
       "3             0        0       0       0              0          1  \n",
       "4             0        0       0       0              0          1  \n",
       "5             0        0       0       0              0          1  \n",
       "6             1        1       0       1              0          0  "
      ]
     },
     "execution_count": 3,
     "metadata": {},
     "output_type": "execute_result"
    }
   ],
   "source": [
    "data['not_toxic'] = data[[\"toxic\", \"severe_toxic\", \"obscene\", \"threat\", \"insult\", \"identity_hate\"]].max(axis=1) #отображаем новые столбец 'not_toxic' и указываем в нем максимальное значение от имеющихся столбцов\n",
    "data = data.replace({'not_toxic':{0:1, 1:0}})  #заменяем в столбце 'not_toxic' 0 на 1 и наоборот чтобы вывести корректные значения. Так как если в других столбцах все 0 то коммент не токсичный\n",
    "data.head(7)"
   ]
  },
  {
   "cell_type": "code",
   "execution_count": 4,
   "id": "dce2c7a4-1f47-4f3e-8eda-ae5aaa0d4b2e",
   "metadata": {
    "tags": []
   },
   "outputs": [
    {
     "data": {
      "text/plain": [
       "not_toxic        143346\n",
       "toxic             15294\n",
       "obscene            8449\n",
       "insult             7877\n",
       "severe_toxic       1595\n",
       "identity_hate      1405\n",
       "threat              478\n",
       "dtype: int64"
      ]
     },
     "execution_count": 4,
     "metadata": {},
     "output_type": "execute_result"
    }
   ],
   "source": [
    "data_sort = data[[\"toxic\", \"severe_toxic\", \"obscene\", \"threat\", \"insult\", \"identity_hate\", 'not_toxic']].sum().sort_values(ascending=False) #Суммируем значения для подсчета их количества и сортируем по убыванию\n",
    "data_sort"
   ]
  },
  {
   "cell_type": "code",
   "execution_count": 5,
   "id": "e7ec0211-915f-4d7b-98f4-f3b03e2df4c8",
   "metadata": {
    "tags": []
   },
   "outputs": [
    {
     "data": {
      "image/png": "[encoded data removed]",
      "text/plain": [
       "<Figure size 1000x800 with 1 Axes>"
      ]
     },
     "metadata": {},
     "output_type": "display_data"
    }
   ],
   "source": [
    "#Отрисуем Bar-plot\n",
    "import seaborn as sns\n",
    "import matplotlib.pyplot as plt\n",
    "\n",
    "ylabel = data_sort.values\n",
    "xlabel = data_sort.index\n",
    "#Bar plot\n",
    "plt.figure(figsize = (10,8))\n",
    "ax = sns.barplot(x=xlabel, y=ylabel, palette='colorblind', width=0.8)\n",
    "plt.xticks(rotation=45)\n",
    "ax.set(xlabel='Категории', ylabel='Количество комментариев')\n",
    "ax.set_title('График разделения комментариев по категориям',fontsize=10, x= 0.52 , y= 1)\n",
    "plt.show()"
   ]
  },
  {
   "cell_type": "markdown",
   "id": "66f26770-8f33-4dec-887a-17cd969a4560",
   "metadata": {},
   "source": [
    "## Task 2"
   ]
  },
  {
   "cell_type": "markdown",
   "id": "a32b334c-b71f-43f7-9634-26ee83f63f94",
   "metadata": {},
   "source": [
    "Используя библиотеку [nltk](https://www.nltk.org/) обработайте тексты комментариев: \n",
    "* Приведи текст к нижнему регистру и токенизируй\n",
    "* Оставь токены содержащие английского алфавита \n",
    "* Убери знаки препинания, цифры\n",
    "* Убери стоп-слова из библиотки nltk\n",
    "\n",
    "Выведи количество токенов для комментария с индексом `000103f0d9cfb60f`"
   ]
  },
  {
   "cell_type": "code",
   "execution_count": null,
   "id": "4fbbc2c9-19cf-43d3-93d9-5a02eae13060",
   "metadata": {
    "tags": []
   },
   "outputs": [],
   "source": [
    "! pip install nltk\n",
    "! nltk.download()"
   ]
  },
  {
   "cell_type": "code",
   "execution_count": 6,
   "id": "0c629905-62f6-45fc-92a6-d19bf1f55c35",
   "metadata": {
    "tags": []
   },
   "outputs": [],
   "source": [
    "import re\n",
    "import nltk\n",
    "from nltk.tokenize import word_tokenize \n",
    "from nltk.corpus import stopwords\n",
    "from nltk.stem import WordNetLemmatizer"
   ]
  },
  {
   "cell_type": "code",
   "execution_count": 7,
   "id": "552bc511-42ee-4b36-bc50-825acb367b12",
   "metadata": {
    "tags": []
   },
   "outputs": [],
   "source": [
    "# снимаем ограничения в pandas на количество выводимых рядов и колонок,\n",
    "# а также на ширину колонок\n",
    "pd.set_option('display.max_rows', None)\n",
    "pd.set_option('display.max_columns', None)\n",
    "pd.set_option('display.max_colwidth', None)"
   ]
  },
  {
   "cell_type": "code",
   "execution_count": 8,
   "id": "aea7e2dc-8f3f-425b-b358-4e318fa9301e",
   "metadata": {
    "tags": []
   },
   "outputs": [],
   "source": [
    "# Функция для очистки текста \n",
    "def clean_text(text):\n",
    "    \n",
    "    # приводим текст к нижнему регистру\n",
    "    text = text.lower()\n",
    "    # создаем регулярное выражение для удаления лишних символов\n",
    "    regular = r'[\\*+\\#+\\№\\!\\\"\\-+\\+\\=+\\?+\\&\\^\\.+\\;\\,+\\>+\\(\\)\\/+\\:\\\\+]'\n",
    "    # удаляем лишние символы\n",
    "    #text = re.sub(r'[^\\w\\s]','', text)\n",
    "    # заменяем числа и цифры на ''\n",
    "    text = re.sub(r'(\\d+\\s\\d+)|(\\d+)','', text)\n",
    "    \n",
    "    # удаляем лишние пробелы\n",
    "    text = re.sub(r'\\s+', ' ', text)\n",
    "    # возвращаем очищенные данные\n",
    "    return text"
   ]
  },
  {
   "cell_type": "code",
   "execution_count": 9,
   "id": "69dc885f-1bec-45cd-ae2d-5f4b35fc3eec",
   "metadata": {
    "tags": []
   },
   "outputs": [
    {
     "data": {
      "text/html": [
       "<div>\n",
       "<style scoped>\n",
       "    .dataframe tbody tr th:only-of-type {\n",
       "        vertical-align: middle;\n",
       "    }\n",
       "\n",
       "    .dataframe tbody tr th {\n",
       "        vertical-align: top;\n",
       "    }\n",
       "\n",
       "    .dataframe thead th {\n",
       "        text-align: right;\n",
       "    }\n",
       "</style>\n",
       "<table border=\"1\" class=\"dataframe\">\n",
       "  <thead>\n",
       "    <tr style=\"text-align: right;\">\n",
       "      <th></th>\n",
       "      <th>id</th>\n",
       "      <th>comment_text</th>\n",
       "      <th>toxic</th>\n",
       "      <th>severe_toxic</th>\n",
       "      <th>obscene</th>\n",
       "      <th>threat</th>\n",
       "      <th>insult</th>\n",
       "      <th>identity_hate</th>\n",
       "      <th>not_toxic</th>\n",
       "      <th>comment_tokeniz</th>\n",
       "    </tr>\n",
       "  </thead>\n",
       "  <tbody>\n",
       "    <tr>\n",
       "      <th>0</th>\n",
       "      <td>0000997932d777bf</td>\n",
       "      <td>Explanation\\nWhy the edits made under my username Hardcore Metallica Fan were reverted? They weren't vandalisms, just closure on some GAs after I voted at New York Dolls FAC. And please don't remove the template from the talk page since I'm retired now.89.205.38.27</td>\n",
       "      <td>0</td>\n",
       "      <td>0</td>\n",
       "      <td>0</td>\n",
       "      <td>0</td>\n",
       "      <td>0</td>\n",
       "      <td>0</td>\n",
       "      <td>1</td>\n",
       "      <td>[explanation, edits, made, username, hardcore, metallica, fan, reverted, vandalism, closure, gas, voted, new, york, doll, fac, please, remove, template, talk, page, since, retired]</td>\n",
       "    </tr>\n",
       "    <tr>\n",
       "      <th>1</th>\n",
       "      <td>000103f0d9cfb60f</td>\n",
       "      <td>D'aww! He matches this background colour I'm seemingly stuck with. Thanks.  (talk) 21:51, January 11, 2016 (UTC)</td>\n",
       "      <td>0</td>\n",
       "      <td>0</td>\n",
       "      <td>0</td>\n",
       "      <td>0</td>\n",
       "      <td>0</td>\n",
       "      <td>0</td>\n",
       "      <td>1</td>\n",
       "      <td>[match, background, colour, seemingly, stuck, thanks, talk, january, utc]</td>\n",
       "    </tr>\n",
       "  </tbody>\n",
       "</table>\n",
       "</div>"
      ],
      "text/plain": [
       "                 id   \n",
       "0  0000997932d777bf  \\\n",
       "1  000103f0d9cfb60f   \n",
       "\n",
       "                                                                                                                                                                                                                                                                comment_text   \n",
       "0  Explanation\\nWhy the edits made under my username Hardcore Metallica Fan were reverted? They weren't vandalisms, just closure on some GAs after I voted at New York Dolls FAC. And please don't remove the template from the talk page since I'm retired now.89.205.38.27  \\\n",
       "1                                                                                                                                                           D'aww! He matches this background colour I'm seemingly stuck with. Thanks.  (talk) 21:51, January 11, 2016 (UTC)   \n",
       "\n",
       "   toxic  severe_toxic  obscene  threat  insult  identity_hate  not_toxic   \n",
       "0      0             0        0       0       0              0          1  \\\n",
       "1      0             0        0       0       0              0          1   \n",
       "\n",
       "                                                                                                                                                                        comment_tokeniz  \n",
       "0  [explanation, edits, made, username, hardcore, metallica, fan, reverted, vandalism, closure, gas, voted, new, york, doll, fac, please, remove, template, talk, page, since, retired]  \n",
       "1                                                                                                             [match, background, colour, seemingly, stuck, thanks, talk, january, utc]  "
      ]
     },
     "execution_count": 9,
     "metadata": {},
     "output_type": "execute_result"
    }
   ],
   "source": [
    "# создаем список для хранения преобразованных данных \n",
    "comment_tokeniz = []\n",
    "# загружаем стоп-слова для английского языка\n",
    "stop_words = stopwords.words('english')\n",
    "# инициализируем лемматайзер\n",
    "lemmatizer = WordNetLemmatizer()\n",
    " \n",
    "# для каждого сообщения text из столбца data['comment_text']\n",
    "for text in data['comment_text']:\n",
    "    # cleaning \n",
    "    text = clean_text(text)   \n",
    "    # tokenization\n",
    "    text = word_tokenize(text)       \n",
    "    # удаление стоп-слов\n",
    "    text = [word for word in text if word not in stop_words and word.isalpha()]     \n",
    "    # лемматизация\n",
    "    text = [lemmatizer.lemmatize(w) for w in text]\n",
    "     \n",
    "    # добавляем преобразованный текст в список 'comment_text'\n",
    "    comment_tokeniz.append(text)\n",
    "\n",
    "#Сохраняем результат преобразования в новой колонке 'comment_text'\n",
    "\n",
    "data['comment_tokeniz'] = comment_tokeniz\n",
    "\n",
    "data.head(2)"
   ]
  },
  {
   "cell_type": "code",
   "execution_count": 10,
   "id": "73fe0d60-81b8-49d0-b8b1-5e93096be37f",
   "metadata": {
    "tags": []
   },
   "outputs": [
    {
     "name": "stdout",
     "output_type": "stream",
     "text": [
      "Количество токенов: 9\n"
     ]
    }
   ],
   "source": [
    "comment_id = data[data['id'] == '000103f0d9cfb60f']\n",
    "print('Количество токенов:', len(comment_id.iloc[0]['comment_tokeniz']))\n",
    "# token_id = comment_id.iloc[0]['comment_text']\n",
    "# print('Количество токенов:', len(token_id))"
   ]
  },
  {
   "cell_type": "markdown",
   "id": "33c1178f-ed36-472b-b31b-b3479d8aecea",
   "metadata": {
    "tags": []
   },
   "source": [
    "## Task 3"
   ]
  },
  {
   "cell_type": "markdown",
   "id": "2a8dcd9e-62cb-40bd-ba4c-42b991f88e19",
   "metadata": {},
   "source": [
    "Раздели выборку на тренировачную и тестовоую с параметрами `random_state=21, test_size=0.3, shuffle=True`\n",
    "Преобразуй тексты комментариев с помощью [TF-IDF](https://scikit-learn.org/stable/modules/generated/sklearn.feature_extraction.text.TfidfVectorizer.html) с количеством признаков равный 3000. \\\n",
    "Выведи размерность тренировачной выборки после преобразования текста."
   ]
  },
  {
   "cell_type": "code",
   "execution_count": 11,
   "id": "d24cd2ca-0156-4d27-a6b2-e082b45fca7b",
   "metadata": {
    "tags": []
   },
   "outputs": [],
   "source": [
    "from sklearn.feature_extraction.text import TfidfVectorizer\n",
    "from sklearn.model_selection import train_test_split\n",
    "\n",
    "data['Token_comment'] = [' '.join(item) for item in data['comment_tokeniz']]  #применила данный код чтобы skealern смог считать необходимый тип данных. При отсутствии строки возникает ошибка\n",
    "X = data['Token_comment']\n",
    "Y = data.drop(['id','Token_comment', 'comment_text', 'comment_tokeniz'], axis=1)\n",
    "X_train, X_test, Y_train, Y_test = train_test_split(X, Y, \n",
    "                                                    test_size=0.3, \n",
    "                                                    random_state=21,\n",
    "                                                    shuffle=True)"
   ]
  },
  {
   "cell_type": "code",
   "execution_count": 12,
   "id": "3919f866-67ba-4588-a354-82d6756d3b7f",
   "metadata": {
    "tags": []
   },
   "outputs": [
    {
     "name": "stdout",
     "output_type": "stream",
     "text": [
      "Размерность тренировачной выборки после преобразования текста: (111699, 3000)\n"
     ]
    }
   ],
   "source": [
    "vectorizer = TfidfVectorizer(max_features=3000)\n",
    "vectorizer.fit(X_train)\n",
    "vectorizer.fit(X_test)\n",
    "X_train_transform = vectorizer.transform(X_train)\n",
    "X_test_transform = vectorizer.transform(X_test)\n",
    "\n",
    "print('Размерность тренировачной выборки после преобразования текста:', X_train_transform.shape)"
   ]
  },
  {
   "cell_type": "markdown",
   "id": "510ab52e-2dc0-46b3-80b2-2f5a587593b5",
   "metadata": {},
   "source": [
    "## Task 4"
   ]
  },
  {
   "cell_type": "markdown",
   "id": "a2408435-5ee0-42b4-97c2-32740925326b",
   "metadata": {},
   "source": [
    "Реши задачу [Multi-Label](https://scikit-learn.org/stable/modules/multiclass.html) классификации используя [RidgeClassifier](https://scikit-learn.org/stable/modules/generated/sklearn.linear_model.RidgeClassifier.html#sklearn.linear_model.RidgeClassifier).\n",
    "Посчитай значение ROC-AUC для тестовой выборки."
   ]
  },
  {
   "cell_type": "code",
   "execution_count": 13,
   "id": "d3967937-e42b-4458-a8ce-b9b47c79c45c",
   "metadata": {
    "tags": []
   },
   "outputs": [
    {
     "name": "stdout",
     "output_type": "stream",
     "text": [
      "ROC-AUC:  0.6722135750085781\n"
     ]
    }
   ],
   "source": [
    "from sklearn.linear_model import RidgeClassifier\n",
    "from sklearn.metrics import roc_auc_score\n",
    "\n",
    "clf = RidgeClassifier()\n",
    "clf.fit(X_train_transform, Y_train)\n",
    "Y_pred = clf.predict(X_test_transform) #предсказанные значения тестовой выборки\n",
    "ROC_AUC1 = roc_auc_score(Y_test, Y_pred)\n",
    "print(\"ROC-AUC: \", ROC_AUC1)"
   ]
  },
  {
   "cell_type": "markdown",
   "id": "2dd5b405-447d-420c-9841-72f0eaf03742",
   "metadata": {},
   "source": [
    "## Task 5"
   ]
  },
  {
   "cell_type": "markdown",
   "id": "2e8e7d65-26cf-4457-ae30-a59961fd02ca",
   "metadata": {},
   "source": [
    "Есть посмотреть на тексты токсичных комментариев, то можно заметить, что они могут повторять одни и те же слова. Или там чаще встречается `!` знаки. \\\n",
    "Кроме 'прямых' текстовых признаков, можно использоваться и эту статистику по тексту. Например, долю уникальных слов в тексте комментария или количество пунктуации в тексте.\n",
    "\n",
    "Придумай не меньше 4х признаков, которые могут помочь в обучении модели. Добавьте их к признакам TF-IDF и обучите модель. \n",
    "Получилось ли увеличить качество классификации?"
   ]
  },
  {
   "cell_type": "code",
   "execution_count": 14,
   "id": "2e54f5a9-338d-425c-b076-8c77ea2d522b",
   "metadata": {
    "tags": []
   },
   "outputs": [],
   "source": [
    "unique_words = []\n",
    "for item in text:\n",
    "    if item not in unique_words:\n",
    "        unique_words.append(item)\n",
    "        res = ''\n",
    "for parameters in unique_words:\n",
    "    res += ' ' + ' '.join(parameters)\n",
    "#список сокращений\n",
    "q = set(res)"
   ]
  },
  {
   "cell_type": "code",
   "execution_count": 15,
   "id": "a920b1d9-c633-4d9a-8240-848574c26863",
   "metadata": {
    "tags": []
   },
   "outputs": [],
   "source": [
    "# 1. доля caps_lock \n",
    "c = sum(bool(X) for X in data['comment_text']) #список Caps\n",
    "caps_lock_train = X_train.apply(lambda x: (len(x.split()))/c)\n",
    "caps_lock_test = X_test.apply(lambda x: (len(x.split()))/c)\n",
    "\n",
    "# 2. количество восклицательных знаков\n",
    "exclamation_point_train = data.loc[X_train.index]['comment_text'].apply(lambda x: x.count('!'))\n",
    "exclamation_point_test = data.loc[X_test.index]['comment_text'].apply(lambda x: x.count('!'))\n",
    "\n",
    "# 3. доля сокращений\n",
    "abbreviation = set(res)\n",
    "abbreviation_train = data.loc[X_train.index]['comment_text'].apply(lambda x: len(set(x.lower().split()).intersection(abbreviation))/len(set(x.lower().split())))\n",
    "abbreviation_test = data.loc[X_test.index]['comment_text'].apply(lambda x: len(set(x.lower().split()).intersection(abbreviation))/len(set(x.lower().split())))\n",
    "\n",
    "# 4. доля ругательств\n",
    "censored_words = set(['fuck','fac','fucking', 'poop ', 'loser', 'sucker', 'bitch', 'hell','shit','ass','asshole','stupid', 'cocksucker', 'piss', 'fool', 'wtf',\n",
    "                     'prick', 'dick', 'cunt', 'pussy', 'gay', 'faggot', 'homo', 'douchebagd', 'nigger'])\n",
    "censored_words_train = data.loc[X_train.index]['comment_text'].apply(lambda x:len(set(x.lower().split()).intersection(censored_words))/len(set(x.lower().split())))\n",
    "censored_words_test = data.loc[X_test.index]['comment_text'].apply(lambda x: len(set(x.lower().split()).intersection(censored_words))/len(set(x.lower().split())))\n",
    "\n",
    "# уникальные слова\n",
    "unique_words_train = data.loc[X_train.index]['comment_text'].apply(lambda x: len(set(x.lower().split()).intersection(unique_words))/len(set(x.lower().split())))\n",
    "unique_words_test = data.loc[X_test.index]['comment_text'].apply(lambda x: len(set(x.lower().split()).intersection(unique_words))/len(set(x.lower().split())))"
   ]
  },
  {
   "cell_type": "code",
   "execution_count": 16,
   "id": "e9b5a5d7-a136-4c57-a7fe-dbbdc80c4895",
   "metadata": {
    "tags": []
   },
   "outputs": [],
   "source": [
    "import numpy as np\n",
    "from scipy.sparse import csr_matrix\n",
    "from scipy.sparse import hstack\n",
    "\n",
    "#объединение новых признаков с признаками TF-IDF\n",
    "new_train = csr_matrix(np.array([exclamation_point_train, abbreviation_train, censored_words_train, caps_lock_train, unique_words_train]).T)\n",
    "new_test = csr_matrix(np.array([exclamation_point_test, abbreviation_test, censored_words_test, caps_lock_test, unique_words_test]).T)\n",
    "\n",
    "#Складываем разреженные матрицы по столбцам\n",
    "X_train_combined = hstack((X_train_transform, new_train))\n",
    "X_test_combined = hstack((X_test_transform, new_test))"
   ]
  },
  {
   "cell_type": "code",
   "execution_count": 17,
   "id": "5bf31191-5b39-4769-bfff-7490dc49500c",
   "metadata": {
    "tags": []
   },
   "outputs": [
    {
     "name": "stdout",
     "output_type": "stream",
     "text": [
      "ROC-AUC:  0.6741007183504121\n"
     ]
    }
   ],
   "source": [
    "from sklearn.linear_model import RidgeClassifier\n",
    "from sklearn.metrics import roc_auc_score\n",
    "\n",
    "model = RidgeClassifier()\n",
    "model.fit(X_train_combined, Y_train)\n",
    "Y_pred = model.predict(X_test_combined)\n",
    "ROC_AUC2 = roc_auc_score(Y_test, Y_pred)\n",
    "print(\"ROC-AUC: \", ROC_AUC2)"
   ]
  },
  {
   "cell_type": "code",
   "execution_count": 18,
   "id": "83b278fb-4933-4ed2-91c5-037ecfef4a63",
   "metadata": {
    "tags": []
   },
   "outputs": [
    {
     "name": "stdout",
     "output_type": "stream",
     "text": [
      "Качество классификации улучшилось\n"
     ]
    }
   ],
   "source": [
    "if ROC_AUC2 > ROC_AUC1:\n",
    "    print('Качество классификации улучшилось')\n",
    "else:\n",
    "    print('Качество классификации ухудшилось')"
   ]
  },
  {
   "cell_type": "code",
   "execution_count": 19,
   "id": "fd52239e-5aa2-4bb6-8915-5091a4ad7b3c",
   "metadata": {
    "tags": []
   },
   "outputs": [
    {
     "data": {
      "text/plain": [
       "(0.6741007183504121, 0.6722135750085781)"
      ]
     },
     "execution_count": 19,
     "metadata": {},
     "output_type": "execute_result"
    }
   ],
   "source": [
    "ROC_AUC2, ROC_AUC1"
   ]
  }
 ],
 "metadata": {
  "kernelspec": {
   "display_name": "Python 3 (ipykernel)",
   "language": "python",
   "name": "python3"
  },
  "language_info": {
   "codemirror_mode": {
    "name": "ipython",
    "version": 3
   },
   "file_extension": ".py",
   "mimetype": "text/x-python",
   "name": "python",
   "nbconvert_exporter": "python",
   "pygments_lexer": "ipython3",
   "version": "3.11.4"
  }
 },
 "nbformat": 4,
 "nbformat_minor": 5
}
